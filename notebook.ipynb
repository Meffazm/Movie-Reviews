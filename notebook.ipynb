{
 "cells": [
  {
   "cell_type": "code",
   "execution_count": 446,
   "metadata": {},
   "outputs": [],
   "source": [
    "import numpy as np\n",
    "import pandas as pd\n",
    "import matplotlib.pyplot as plt\n",
    "from sklearn.model_selection import train_test_split, GridSearchCV\n",
    "from sklearn.preprocessing import FunctionTransformer\n",
    "from sklearn.base import TransformerMixin, BaseEstimator\n",
    "from sklearn.compose import ColumnTransformer\n",
    "from sklearn.impute import SimpleImputer\n",
    "from category_encoders import TargetEncoder, CatBoostEncoder, JamesSteinEncoder\n",
    "from sklearn.feature_extraction.text import CountVectorizer\n",
    "from sklearn.compose import ColumnTransformer\n",
    "from sklearn.pipeline import Pipeline, make_pipeline\n",
    "from sklearn.preprocessing import MinMaxScaler, OneHotEncoder\n",
    "from sklearn.feature_selection import SelectKBest, f_regression\n",
    "import warnings\n",
    "import seaborn as sns\n",
    "warnings.filterwarnings('ignore')\n",
    "%matplotlib inline\n",
    "%config Completer.use_jedi = False"
   ]
  },
  {
   "cell_type": "markdown",
   "metadata": {},
   "source": [
    "This is a template for your final project. "
   ]
  },
  {
   "cell_type": "code",
   "execution_count": 2,
   "metadata": {},
   "outputs": [
    {
     "data": {
      "text/html": [
       "<div>\n",
       "<style scoped>\n",
       "    .dataframe tbody tr th:only-of-type {\n",
       "        vertical-align: middle;\n",
       "    }\n",
       "\n",
       "    .dataframe tbody tr th {\n",
       "        vertical-align: top;\n",
       "    }\n",
       "\n",
       "    .dataframe thead th {\n",
       "        text-align: right;\n",
       "    }\n",
       "</style>\n",
       "<table border=\"1\" class=\"dataframe\">\n",
       "  <thead>\n",
       "    <tr style=\"text-align: right;\">\n",
       "      <th></th>\n",
       "      <th>imdb_title_id</th>\n",
       "      <th>title</th>\n",
       "      <th>original_title</th>\n",
       "      <th>year</th>\n",
       "      <th>date_published</th>\n",
       "      <th>genre</th>\n",
       "      <th>duration</th>\n",
       "      <th>country</th>\n",
       "      <th>language</th>\n",
       "      <th>director</th>\n",
       "      <th>...</th>\n",
       "      <th>actors</th>\n",
       "      <th>description</th>\n",
       "      <th>avg_vote</th>\n",
       "      <th>votes</th>\n",
       "      <th>budget</th>\n",
       "      <th>usa_gross_income</th>\n",
       "      <th>worlwide_gross_income</th>\n",
       "      <th>metascore</th>\n",
       "      <th>reviews_from_users</th>\n",
       "      <th>reviews_from_critics</th>\n",
       "    </tr>\n",
       "  </thead>\n",
       "  <tbody>\n",
       "    <tr>\n",
       "      <th>0</th>\n",
       "      <td>tt0000574</td>\n",
       "      <td>The Story of the Kelly Gang</td>\n",
       "      <td>The Story of the Kelly Gang</td>\n",
       "      <td>1906</td>\n",
       "      <td>1906-12-26</td>\n",
       "      <td>Biography, Crime, Drama</td>\n",
       "      <td>70</td>\n",
       "      <td>Australia</td>\n",
       "      <td>NaN</td>\n",
       "      <td>Charles Tait</td>\n",
       "      <td>...</td>\n",
       "      <td>Elizabeth Tait, John Tait, Norman Campbell, Be...</td>\n",
       "      <td>True story of notorious Australian outlaw Ned ...</td>\n",
       "      <td>6.1</td>\n",
       "      <td>537</td>\n",
       "      <td>$ 2250</td>\n",
       "      <td>NaN</td>\n",
       "      <td>NaN</td>\n",
       "      <td>NaN</td>\n",
       "      <td>7.0</td>\n",
       "      <td>7.0</td>\n",
       "    </tr>\n",
       "    <tr>\n",
       "      <th>1</th>\n",
       "      <td>tt0001892</td>\n",
       "      <td>Den sorte drøm</td>\n",
       "      <td>Den sorte drøm</td>\n",
       "      <td>1911</td>\n",
       "      <td>1911-08-19</td>\n",
       "      <td>Drama</td>\n",
       "      <td>53</td>\n",
       "      <td>Germany, Denmark</td>\n",
       "      <td>NaN</td>\n",
       "      <td>Urban Gad</td>\n",
       "      <td>...</td>\n",
       "      <td>Asta Nielsen, Valdemar Psilander, Gunnar Helse...</td>\n",
       "      <td>Two men of high rank are both wooing the beaut...</td>\n",
       "      <td>5.9</td>\n",
       "      <td>171</td>\n",
       "      <td>NaN</td>\n",
       "      <td>NaN</td>\n",
       "      <td>NaN</td>\n",
       "      <td>NaN</td>\n",
       "      <td>4.0</td>\n",
       "      <td>2.0</td>\n",
       "    </tr>\n",
       "    <tr>\n",
       "      <th>2</th>\n",
       "      <td>tt0002101</td>\n",
       "      <td>Cleopatra</td>\n",
       "      <td>Cleopatra</td>\n",
       "      <td>1912</td>\n",
       "      <td>1912-11-13</td>\n",
       "      <td>Drama, History</td>\n",
       "      <td>100</td>\n",
       "      <td>USA</td>\n",
       "      <td>English</td>\n",
       "      <td>Charles L. Gaskill</td>\n",
       "      <td>...</td>\n",
       "      <td>Helen Gardner, Pearl Sindelar, Miss Fielding, ...</td>\n",
       "      <td>The fabled queen of Egypt's affair with Roman ...</td>\n",
       "      <td>5.2</td>\n",
       "      <td>420</td>\n",
       "      <td>$ 45000</td>\n",
       "      <td>NaN</td>\n",
       "      <td>NaN</td>\n",
       "      <td>NaN</td>\n",
       "      <td>24.0</td>\n",
       "      <td>3.0</td>\n",
       "    </tr>\n",
       "  </tbody>\n",
       "</table>\n",
       "<p>3 rows × 22 columns</p>\n",
       "</div>"
      ],
      "text/plain": [
       "  imdb_title_id                        title               original_title  \\\n",
       "0     tt0000574  The Story of the Kelly Gang  The Story of the Kelly Gang   \n",
       "1     tt0001892               Den sorte drøm               Den sorte drøm   \n",
       "2     tt0002101                    Cleopatra                    Cleopatra   \n",
       "\n",
       "   year date_published                    genre  duration           country  \\\n",
       "0  1906     1906-12-26  Biography, Crime, Drama        70         Australia   \n",
       "1  1911     1911-08-19                    Drama        53  Germany, Denmark   \n",
       "2  1912     1912-11-13           Drama, History       100               USA   \n",
       "\n",
       "  language            director  ...  \\\n",
       "0      NaN        Charles Tait  ...   \n",
       "1      NaN           Urban Gad  ...   \n",
       "2  English  Charles L. Gaskill  ...   \n",
       "\n",
       "                                              actors  \\\n",
       "0  Elizabeth Tait, John Tait, Norman Campbell, Be...   \n",
       "1  Asta Nielsen, Valdemar Psilander, Gunnar Helse...   \n",
       "2  Helen Gardner, Pearl Sindelar, Miss Fielding, ...   \n",
       "\n",
       "                                         description avg_vote votes   budget  \\\n",
       "0  True story of notorious Australian outlaw Ned ...      6.1   537   $ 2250   \n",
       "1  Two men of high rank are both wooing the beaut...      5.9   171      NaN   \n",
       "2  The fabled queen of Egypt's affair with Roman ...      5.2   420  $ 45000   \n",
       "\n",
       "   usa_gross_income worlwide_gross_income metascore reviews_from_users  \\\n",
       "0               NaN                   NaN       NaN                7.0   \n",
       "1               NaN                   NaN       NaN                4.0   \n",
       "2               NaN                   NaN       NaN               24.0   \n",
       "\n",
       "   reviews_from_critics  \n",
       "0                   7.0  \n",
       "1                   2.0  \n",
       "2                   3.0  \n",
       "\n",
       "[3 rows x 22 columns]"
      ]
     },
     "execution_count": 2,
     "metadata": {},
     "output_type": "execute_result"
    }
   ],
   "source": [
    "full_dataset = pd.read_csv('IMDb movies.csv')\n",
    "full_dataset.head(3)"
   ]
  },
  {
   "cell_type": "markdown",
   "metadata": {},
   "source": [
    "### Part 1.\n",
    "\n",
    "Task formalization and Evaluation criteria\n",
    "\n",
    "1.1 Select your target variable, explain your choice. Separate target variable from the feature matrix."
   ]
  },
  {
   "cell_type": "markdown",
   "metadata": {},
   "source": [
    "Let's looks at the percentages of missing values per feature first."
   ]
  },
  {
   "cell_type": "code",
   "execution_count": 3,
   "metadata": {},
   "outputs": [
    {
     "data": {
      "text/plain": [
       "imdb_title_id              0.0%\n",
       "title                      0.0%\n",
       "original_title             0.0%\n",
       "year                       0.0%\n",
       "date_published             0.0%\n",
       "genre                      0.0%\n",
       "duration                   0.0%\n",
       "country                   0.01%\n",
       "language                  0.73%\n",
       "director                  0.04%\n",
       "writer                    1.34%\n",
       "production_company        4.56%\n",
       "actors                    0.05%\n",
       "description               3.31%\n",
       "avg_vote                   0.0%\n",
       "votes                      0.0%\n",
       "budget                   72.06%\n",
       "usa_gross_income         80.25%\n",
       "worlwide_gross_income    68.21%\n",
       "metascore                85.36%\n",
       "reviews_from_users        6.76%\n",
       "reviews_from_critics     13.67%\n",
       "dtype: object"
      ]
     },
     "execution_count": 3,
     "metadata": {},
     "output_type": "execute_result"
    }
   ],
   "source": [
    "(full_dataset.isna().sum() / full_dataset.shape[0] * 100).apply(lambda x: round(x, 2)).astype(str) + '%'"
   ]
  },
  {
   "cell_type": "markdown",
   "metadata": {},
   "source": [
    "As we can see, we have 4 features with > 68% missing values. 3 of them could potentially be interrsting in estimating movie's success, but due to their scarceness we will avoid them.\n",
    "\n",
    "The remaning features that could be used as target are **avg_vote, votes, reviews_from_users, reviews_from_critics**. Let's analyze the last two.  "
   ]
  },
  {
   "cell_type": "code",
   "execution_count": 4,
   "metadata": {},
   "outputs": [
    {
     "data": {
      "text/html": [
       "<div>\n",
       "<style scoped>\n",
       "    .dataframe tbody tr th:only-of-type {\n",
       "        vertical-align: middle;\n",
       "    }\n",
       "\n",
       "    .dataframe tbody tr th {\n",
       "        vertical-align: top;\n",
       "    }\n",
       "\n",
       "    .dataframe thead th {\n",
       "        text-align: right;\n",
       "    }\n",
       "</style>\n",
       "<table border=\"1\" class=\"dataframe\">\n",
       "  <thead>\n",
       "    <tr style=\"text-align: right;\">\n",
       "      <th></th>\n",
       "      <th>reviews_from_users</th>\n",
       "      <th>reviews_from_critics</th>\n",
       "    </tr>\n",
       "  </thead>\n",
       "  <tbody>\n",
       "    <tr>\n",
       "      <th>count</th>\n",
       "      <td>56129.000000</td>\n",
       "      <td>51969.000000</td>\n",
       "    </tr>\n",
       "    <tr>\n",
       "      <th>mean</th>\n",
       "      <td>44.926901</td>\n",
       "      <td>27.269872</td>\n",
       "    </tr>\n",
       "    <tr>\n",
       "      <th>std</th>\n",
       "      <td>152.973352</td>\n",
       "      <td>55.689940</td>\n",
       "    </tr>\n",
       "    <tr>\n",
       "      <th>min</th>\n",
       "      <td>1.000000</td>\n",
       "      <td>1.000000</td>\n",
       "    </tr>\n",
       "    <tr>\n",
       "      <th>25%</th>\n",
       "      <td>4.000000</td>\n",
       "      <td>3.000000</td>\n",
       "    </tr>\n",
       "    <tr>\n",
       "      <th>50%</th>\n",
       "      <td>10.000000</td>\n",
       "      <td>8.000000</td>\n",
       "    </tr>\n",
       "    <tr>\n",
       "      <th>75%</th>\n",
       "      <td>28.000000</td>\n",
       "      <td>24.000000</td>\n",
       "    </tr>\n",
       "    <tr>\n",
       "      <th>max</th>\n",
       "      <td>7029.000000</td>\n",
       "      <td>837.000000</td>\n",
       "    </tr>\n",
       "  </tbody>\n",
       "</table>\n",
       "</div>"
      ],
      "text/plain": [
       "       reviews_from_users  reviews_from_critics\n",
       "count        56129.000000          51969.000000\n",
       "mean            44.926901             27.269872\n",
       "std            152.973352             55.689940\n",
       "min              1.000000              1.000000\n",
       "25%              4.000000              3.000000\n",
       "50%             10.000000              8.000000\n",
       "75%             28.000000             24.000000\n",
       "max           7029.000000            837.000000"
      ]
     },
     "execution_count": 4,
     "metadata": {},
     "output_type": "execute_result"
    }
   ],
   "source": [
    "full_dataset[['reviews_from_users', 'reviews_from_critics']].describe()"
   ]
  },
  {
   "cell_type": "markdown",
   "metadata": {},
   "source": [
    "It seems these features are descrete and represents the number of reviews from critics and users separately. By it's own they cannot represent movie's success because we need an actual score, not only the number of scores. Most probably these two features come from Metacritic, as well as already ignored by us **metascore** feature. \n",
    "\n",
    "We also have **votes** and **avg_vote** features that probably is a rating of a movie at imdb itself due to the fact that there no missing values for those two. Let's sanity check that **votes** represent number of votes not equal to the sum of two other features with critic and user votes"
   ]
  },
  {
   "cell_type": "code",
   "execution_count": 5,
   "metadata": {},
   "outputs": [
    {
     "data": {
      "text/plain": [
       "0          523.0\n",
       "1          165.0\n",
       "2          393.0\n",
       "3         1977.0\n",
       "4          421.0\n",
       "          ...   \n",
       "60193       99.0\n",
       "60194     7558.0\n",
       "60195       97.0\n",
       "60196      340.0\n",
       "60197    13112.0\n",
       "Length: 60198, dtype: float64"
      ]
     },
     "execution_count": 5,
     "metadata": {},
     "output_type": "execute_result"
    }
   ],
   "source": [
    "full_dataset['votes'] - (full_dataset['reviews_from_critics'] + full_dataset['reviews_from_users'])"
   ]
  },
  {
   "cell_type": "markdown",
   "metadata": {},
   "source": [
    "This series doesn't consist of zeros so our assumption is true.\n",
    "\n",
    "So, we are left with two possbile options - **votes** and **avg_votes**. We wiil try to use both of them, because it our measure should not only indicate the score of movie but also the quality of this score. The more scores the movie has, the more trustworthy it's average score is. Let's look at the distrubtion of average scores:"
   ]
  },
  {
   "cell_type": "code",
   "execution_count": 6,
   "metadata": {},
   "outputs": [
    {
     "data": {
      "image/png": "[encoded data removed]",
      "text/plain": [
       "<Figure size 432x288 with 1 Axes>"
      ]
     },
     "metadata": {
      "needs_background": "light"
     },
     "output_type": "display_data"
    }
   ],
   "source": [
    "full_dataset['avg_vote'].hist();"
   ]
  },
  {
   "cell_type": "markdown",
   "metadata": {},
   "source": [
    "It is approximately normal on scale from 0 to 10. We need to maintain this scale while incorporating the number of reviews into our score. We will use next formula:\n",
    "$$score=P\\cdot p+10\\cdot (1-P)\\cdot (1-e^{-q/Q})$$\n",
    "\n",
    "Here P - is skewness coefficient. We will leave it at $\\frac{1}{2}$ to maintain scale.\n",
    "*p* - average score, *q* - number of scores, *Q* - quantity \"importance\" measure.\n",
    "We will compute *Q* as\n",
    "$$Q=\\frac{−M}{ln{\\frac{1}{2}}}$$ where M - is number of reviews that we consider as \"moderate\". We will pick median value of the number of reviews as M."
   ]
  },
  {
   "cell_type": "code",
   "execution_count": 7,
   "metadata": {},
   "outputs": [],
   "source": [
    "def extract_target(df):\n",
    "    q = -df['votes'].median() / np.log(0.5)\n",
    "    score = 0.5 * df['avg_vote'] + 5 * (1 - np.exp(-df['votes'] / q))\n",
    "    return df.drop(['avg_vote', 'votes'], axis=1), score"
   ]
  },
  {
   "cell_type": "code",
   "execution_count": 8,
   "metadata": {},
   "outputs": [],
   "source": [
    "X, y = extract_target(full_dataset)"
   ]
  },
  {
   "cell_type": "markdown",
   "metadata": {},
   "source": [
    "Now let's find two movies with high score but small and high number of reviews to make sure that our formula worked as intended."
   ]
  },
  {
   "cell_type": "code",
   "execution_count": 9,
   "metadata": {},
   "outputs": [
    {
     "data": {
      "text/html": [
       "<div>\n",
       "<style scoped>\n",
       "    .dataframe tbody tr th:only-of-type {\n",
       "        vertical-align: middle;\n",
       "    }\n",
       "\n",
       "    .dataframe tbody tr th {\n",
       "        vertical-align: top;\n",
       "    }\n",
       "\n",
       "    .dataframe thead th {\n",
       "        text-align: right;\n",
       "    }\n",
       "</style>\n",
       "<table border=\"1\" class=\"dataframe\">\n",
       "  <thead>\n",
       "    <tr style=\"text-align: right;\">\n",
       "      <th></th>\n",
       "      <th>avg_vote</th>\n",
       "      <th>votes</th>\n",
       "    </tr>\n",
       "  </thead>\n",
       "  <tbody>\n",
       "    <tr>\n",
       "      <th>51931</th>\n",
       "      <td>9.5</td>\n",
       "      <td>1017</td>\n",
       "    </tr>\n",
       "    <tr>\n",
       "      <th>51977</th>\n",
       "      <td>9.5</td>\n",
       "      <td>617</td>\n",
       "    </tr>\n",
       "  </tbody>\n",
       "</table>\n",
       "</div>"
      ],
      "text/plain": [
       "       avg_vote  votes\n",
       "51931       9.5   1017\n",
       "51977       9.5    617"
      ]
     },
     "execution_count": 9,
     "metadata": {},
     "output_type": "execute_result"
    }
   ],
   "source": [
    "full_dataset[full_dataset['avg_vote'] == 9.5][['avg_vote', 'votes']]"
   ]
  },
  {
   "cell_type": "code",
   "execution_count": 10,
   "metadata": {},
   "outputs": [
    {
     "data": {
      "text/plain": [
       "51931    8.518805\n",
       "51977    7.613443\n",
       "dtype: float64"
      ]
     },
     "execution_count": 10,
     "metadata": {},
     "output_type": "execute_result"
    }
   ],
   "source": [
    "y[[51931, 51977]]"
   ]
  },
  {
   "cell_type": "markdown",
   "metadata": {},
   "source": [
    "We see that, despite that both movies got 9.5 as their average score, the one with higher amount of votes recieved higher score with our method."
   ]
  },
  {
   "cell_type": "markdown",
   "metadata": {},
   "source": [
    "1.2 Explain which task are you going to solve (is it a regression, classification or something else)? "
   ]
  },
  {
   "cell_type": "markdown",
   "metadata": {},
   "source": [
    "This is clearly a regression task. Our model will predict the score of the movie, which reflects not only the level of acceptance, but also the estimate popularity."
   ]
  },
  {
   "cell_type": "markdown",
   "metadata": {},
   "source": [
    "1.3 Select a metric. Is it already implemented in sklearn? If yes, import it. If not, it is time to write a function which will calculate it. "
   ]
  },
  {
   "cell_type": "code",
   "execution_count": 11,
   "metadata": {},
   "outputs": [
    {
     "data": {
      "text/html": [
       "<div>\n",
       "<style scoped>\n",
       "    .dataframe tbody tr th:only-of-type {\n",
       "        vertical-align: middle;\n",
       "    }\n",
       "\n",
       "    .dataframe tbody tr th {\n",
       "        vertical-align: top;\n",
       "    }\n",
       "\n",
       "    .dataframe thead th {\n",
       "        text-align: right;\n",
       "    }\n",
       "</style>\n",
       "<table border=\"1\" class=\"dataframe\">\n",
       "  <thead>\n",
       "    <tr style=\"text-align: right;\">\n",
       "      <th></th>\n",
       "      <th>year</th>\n",
       "      <th>duration</th>\n",
       "      <th>metascore</th>\n",
       "      <th>reviews_from_users</th>\n",
       "      <th>reviews_from_critics</th>\n",
       "    </tr>\n",
       "  </thead>\n",
       "  <tbody>\n",
       "    <tr>\n",
       "      <th>count</th>\n",
       "      <td>60198.000000</td>\n",
       "      <td>60198.000000</td>\n",
       "      <td>8812.000000</td>\n",
       "      <td>56129.000000</td>\n",
       "      <td>51969.000000</td>\n",
       "    </tr>\n",
       "    <tr>\n",
       "      <th>mean</th>\n",
       "      <td>1985.308366</td>\n",
       "      <td>99.744825</td>\n",
       "      <td>55.532229</td>\n",
       "      <td>44.926901</td>\n",
       "      <td>27.269872</td>\n",
       "    </tr>\n",
       "    <tr>\n",
       "      <th>std</th>\n",
       "      <td>23.308107</td>\n",
       "      <td>22.753228</td>\n",
       "      <td>17.885123</td>\n",
       "      <td>152.973352</td>\n",
       "      <td>55.689940</td>\n",
       "    </tr>\n",
       "    <tr>\n",
       "      <th>min</th>\n",
       "      <td>1906.000000</td>\n",
       "      <td>40.000000</td>\n",
       "      <td>1.000000</td>\n",
       "      <td>1.000000</td>\n",
       "      <td>1.000000</td>\n",
       "    </tr>\n",
       "    <tr>\n",
       "      <th>25%</th>\n",
       "      <td>1970.000000</td>\n",
       "      <td>88.000000</td>\n",
       "      <td>43.000000</td>\n",
       "      <td>4.000000</td>\n",
       "      <td>3.000000</td>\n",
       "    </tr>\n",
       "    <tr>\n",
       "      <th>50%</th>\n",
       "      <td>1992.000000</td>\n",
       "      <td>95.000000</td>\n",
       "      <td>56.000000</td>\n",
       "      <td>10.000000</td>\n",
       "      <td>8.000000</td>\n",
       "    </tr>\n",
       "    <tr>\n",
       "      <th>75%</th>\n",
       "      <td>2005.000000</td>\n",
       "      <td>107.000000</td>\n",
       "      <td>68.000000</td>\n",
       "      <td>28.000000</td>\n",
       "      <td>24.000000</td>\n",
       "    </tr>\n",
       "    <tr>\n",
       "      <th>max</th>\n",
       "      <td>2019.000000</td>\n",
       "      <td>729.000000</td>\n",
       "      <td>100.000000</td>\n",
       "      <td>7029.000000</td>\n",
       "      <td>837.000000</td>\n",
       "    </tr>\n",
       "  </tbody>\n",
       "</table>\n",
       "</div>"
      ],
      "text/plain": [
       "               year      duration    metascore  reviews_from_users  \\\n",
       "count  60198.000000  60198.000000  8812.000000        56129.000000   \n",
       "mean    1985.308366     99.744825    55.532229           44.926901   \n",
       "std       23.308107     22.753228    17.885123          152.973352   \n",
       "min     1906.000000     40.000000     1.000000            1.000000   \n",
       "25%     1970.000000     88.000000    43.000000            4.000000   \n",
       "50%     1992.000000     95.000000    56.000000           10.000000   \n",
       "75%     2005.000000    107.000000    68.000000           28.000000   \n",
       "max     2019.000000    729.000000   100.000000         7029.000000   \n",
       "\n",
       "       reviews_from_critics  \n",
       "count          51969.000000  \n",
       "mean              27.269872  \n",
       "std               55.689940  \n",
       "min                1.000000  \n",
       "25%                3.000000  \n",
       "50%                8.000000  \n",
       "75%               24.000000  \n",
       "max              837.000000  "
      ]
     },
     "execution_count": 11,
     "metadata": {},
     "output_type": "execute_result"
    }
   ],
   "source": [
    "X.describe()"
   ]
  },
  {
   "cell_type": "code",
   "execution_count": 12,
   "metadata": {},
   "outputs": [
    {
     "data": {
      "text/html": [
       "<div>\n",
       "<style scoped>\n",
       "    .dataframe tbody tr th:only-of-type {\n",
       "        vertical-align: middle;\n",
       "    }\n",
       "\n",
       "    .dataframe tbody tr th {\n",
       "        vertical-align: top;\n",
       "    }\n",
       "\n",
       "    .dataframe thead th {\n",
       "        text-align: right;\n",
       "    }\n",
       "</style>\n",
       "<table border=\"1\" class=\"dataframe\">\n",
       "  <thead>\n",
       "    <tr style=\"text-align: right;\">\n",
       "      <th></th>\n",
       "      <th>imdb_title_id</th>\n",
       "      <th>title</th>\n",
       "      <th>original_title</th>\n",
       "      <th>date_published</th>\n",
       "      <th>genre</th>\n",
       "      <th>country</th>\n",
       "      <th>language</th>\n",
       "      <th>director</th>\n",
       "      <th>writer</th>\n",
       "      <th>production_company</th>\n",
       "      <th>actors</th>\n",
       "      <th>description</th>\n",
       "      <th>budget</th>\n",
       "      <th>usa_gross_income</th>\n",
       "      <th>worlwide_gross_income</th>\n",
       "    </tr>\n",
       "  </thead>\n",
       "  <tbody>\n",
       "    <tr>\n",
       "      <th>count</th>\n",
       "      <td>60198</td>\n",
       "      <td>60198</td>\n",
       "      <td>60198</td>\n",
       "      <td>60198</td>\n",
       "      <td>60198</td>\n",
       "      <td>60193</td>\n",
       "      <td>59759</td>\n",
       "      <td>60174</td>\n",
       "      <td>59390</td>\n",
       "      <td>57454</td>\n",
       "      <td>60168</td>\n",
       "      <td>58205</td>\n",
       "      <td>16819</td>\n",
       "      <td>11892</td>\n",
       "      <td>19136</td>\n",
       "    </tr>\n",
       "    <tr>\n",
       "      <th>unique</th>\n",
       "      <td>60198</td>\n",
       "      <td>57284</td>\n",
       "      <td>57290</td>\n",
       "      <td>19431</td>\n",
       "      <td>1202</td>\n",
       "      <td>3318</td>\n",
       "      <td>3192</td>\n",
       "      <td>22771</td>\n",
       "      <td>47546</td>\n",
       "      <td>21441</td>\n",
       "      <td>60145</td>\n",
       "      <td>58126</td>\n",
       "      <td>3503</td>\n",
       "      <td>11529</td>\n",
       "      <td>18920</td>\n",
       "    </tr>\n",
       "    <tr>\n",
       "      <th>top</th>\n",
       "      <td>tt0259060</td>\n",
       "      <td>The Three Musketeers</td>\n",
       "      <td>The Three Musketeers</td>\n",
       "      <td>2010</td>\n",
       "      <td>Drama</td>\n",
       "      <td>USA</td>\n",
       "      <td>English</td>\n",
       "      <td>Michael Curtiz</td>\n",
       "      <td>Jing Wong</td>\n",
       "      <td>Metro-Goldwyn-Mayer (MGM)</td>\n",
       "      <td>Nobuyo Ôyama, Noriko Ohara, Michiko Nomura, Ka...</td>\n",
       "      <td>Mail</td>\n",
       "      <td>$ 1000000</td>\n",
       "      <td>$ 1000000</td>\n",
       "      <td>$ 8144</td>\n",
       "    </tr>\n",
       "    <tr>\n",
       "      <th>freq</th>\n",
       "      <td>1</td>\n",
       "      <td>8</td>\n",
       "      <td>8</td>\n",
       "      <td>101</td>\n",
       "      <td>8498</td>\n",
       "      <td>22080</td>\n",
       "      <td>27008</td>\n",
       "      <td>86</td>\n",
       "      <td>70</td>\n",
       "      <td>1277</td>\n",
       "      <td>13</td>\n",
       "      <td>7</td>\n",
       "      <td>512</td>\n",
       "      <td>19</td>\n",
       "      <td>16</td>\n",
       "    </tr>\n",
       "  </tbody>\n",
       "</table>\n",
       "</div>"
      ],
      "text/plain": [
       "       imdb_title_id                 title        original_title  \\\n",
       "count          60198                 60198                 60198   \n",
       "unique         60198                 57284                 57290   \n",
       "top        tt0259060  The Three Musketeers  The Three Musketeers   \n",
       "freq               1                     8                     8   \n",
       "\n",
       "       date_published  genre country language        director     writer  \\\n",
       "count           60198  60198   60193    59759           60174      59390   \n",
       "unique          19431   1202    3318     3192           22771      47546   \n",
       "top              2010  Drama     USA  English  Michael Curtiz  Jing Wong   \n",
       "freq              101   8498   22080    27008              86         70   \n",
       "\n",
       "               production_company  \\\n",
       "count                       57454   \n",
       "unique                      21441   \n",
       "top     Metro-Goldwyn-Mayer (MGM)   \n",
       "freq                         1277   \n",
       "\n",
       "                                                   actors description  \\\n",
       "count                                               60168       58205   \n",
       "unique                                              60145       58126   \n",
       "top     Nobuyo Ôyama, Noriko Ohara, Michiko Nomura, Ka...        Mail   \n",
       "freq                                                   13           7   \n",
       "\n",
       "           budget usa_gross_income worlwide_gross_income  \n",
       "count       16819            11892                 19136  \n",
       "unique       3503            11529                 18920  \n",
       "top     $ 1000000        $ 1000000                $ 8144  \n",
       "freq          512               19                    16  "
      ]
     },
     "execution_count": 12,
     "metadata": {},
     "output_type": "execute_result"
    }
   ],
   "source": [
    "X.describe(include='O')"
   ]
  },
  {
   "cell_type": "markdown",
   "metadata": {},
   "source": [
    "The variance of numerical features as well as cardinality of categorical is quite large, so we will use $R^2$ metric as a measure of abilty of our model to explain the variance of it's features."
   ]
  },
  {
   "cell_type": "code",
   "execution_count": 257,
   "metadata": {},
   "outputs": [],
   "source": [
    "from sklearn.metrics import r2_score"
   ]
  },
  {
   "cell_type": "markdown",
   "metadata": {},
   "source": [
    "### Part 2.\n",
    "\n",
    "Explore and preprocess the data\n",
    "\n",
    "2.1 Split data into train and test"
   ]
  },
  {
   "cell_type": "code",
   "execution_count": 14,
   "metadata": {},
   "outputs": [],
   "source": [
    "X_tr, X_te, y_tr, y_te = train_test_split(X, y)"
   ]
  },
  {
   "cell_type": "markdown",
   "metadata": {},
   "source": [
    "2.2 Explore you data: make plots, print tables. Make sure to write your observations.  Do not forget to fill-in missing values, define relevant columns transformatios. \n"
   ]
  },
  {
   "cell_type": "markdown",
   "metadata": {},
   "source": [
    "For plotting we will create a separate dataframe"
   ]
  },
  {
   "cell_type": "code",
   "execution_count": 15,
   "metadata": {},
   "outputs": [
    {
     "data": {
      "text/html": [
       "<div>\n",
       "<style scoped>\n",
       "    .dataframe tbody tr th:only-of-type {\n",
       "        vertical-align: middle;\n",
       "    }\n",
       "\n",
       "    .dataframe tbody tr th {\n",
       "        vertical-align: top;\n",
       "    }\n",
       "\n",
       "    .dataframe thead th {\n",
       "        text-align: right;\n",
       "    }\n",
       "</style>\n",
       "<table border=\"1\" class=\"dataframe\">\n",
       "  <thead>\n",
       "    <tr style=\"text-align: right;\">\n",
       "      <th></th>\n",
       "      <th>imdb_title_id</th>\n",
       "      <th>title</th>\n",
       "      <th>original_title</th>\n",
       "      <th>year</th>\n",
       "      <th>date_published</th>\n",
       "      <th>genre</th>\n",
       "      <th>duration</th>\n",
       "      <th>country</th>\n",
       "      <th>language</th>\n",
       "      <th>director</th>\n",
       "      <th>...</th>\n",
       "      <th>description</th>\n",
       "      <th>avg_vote</th>\n",
       "      <th>votes</th>\n",
       "      <th>budget</th>\n",
       "      <th>usa_gross_income</th>\n",
       "      <th>worlwide_gross_income</th>\n",
       "      <th>metascore</th>\n",
       "      <th>reviews_from_users</th>\n",
       "      <th>reviews_from_critics</th>\n",
       "      <th>score</th>\n",
       "    </tr>\n",
       "  </thead>\n",
       "  <tbody>\n",
       "    <tr>\n",
       "      <th>0</th>\n",
       "      <td>tt0000574</td>\n",
       "      <td>The Story of the Kelly Gang</td>\n",
       "      <td>The Story of the Kelly Gang</td>\n",
       "      <td>1906</td>\n",
       "      <td>1906-12-26</td>\n",
       "      <td>Biography, Crime, Drama</td>\n",
       "      <td>70</td>\n",
       "      <td>Australia</td>\n",
       "      <td>NaN</td>\n",
       "      <td>Charles Tait</td>\n",
       "      <td>...</td>\n",
       "      <td>True story of notorious Australian outlaw Ned ...</td>\n",
       "      <td>6.1</td>\n",
       "      <td>537</td>\n",
       "      <td>$ 2250</td>\n",
       "      <td>NaN</td>\n",
       "      <td>NaN</td>\n",
       "      <td>NaN</td>\n",
       "      <td>7.0</td>\n",
       "      <td>7.0</td>\n",
       "      <td>5.664431</td>\n",
       "    </tr>\n",
       "    <tr>\n",
       "      <th>1</th>\n",
       "      <td>tt0001892</td>\n",
       "      <td>Den sorte drøm</td>\n",
       "      <td>Den sorte drøm</td>\n",
       "      <td>1911</td>\n",
       "      <td>1911-08-19</td>\n",
       "      <td>Drama</td>\n",
       "      <td>53</td>\n",
       "      <td>Germany, Denmark</td>\n",
       "      <td>NaN</td>\n",
       "      <td>Urban Gad</td>\n",
       "      <td>...</td>\n",
       "      <td>Two men of high rank are both wooing the beaut...</td>\n",
       "      <td>5.9</td>\n",
       "      <td>171</td>\n",
       "      <td>NaN</td>\n",
       "      <td>NaN</td>\n",
       "      <td>NaN</td>\n",
       "      <td>NaN</td>\n",
       "      <td>4.0</td>\n",
       "      <td>2.0</td>\n",
       "      <td>3.999685</td>\n",
       "    </tr>\n",
       "    <tr>\n",
       "      <th>2</th>\n",
       "      <td>tt0002101</td>\n",
       "      <td>Cleopatra</td>\n",
       "      <td>Cleopatra</td>\n",
       "      <td>1912</td>\n",
       "      <td>1912-11-13</td>\n",
       "      <td>Drama, History</td>\n",
       "      <td>100</td>\n",
       "      <td>USA</td>\n",
       "      <td>English</td>\n",
       "      <td>Charles L. Gaskill</td>\n",
       "      <td>...</td>\n",
       "      <td>The fabled queen of Egypt's affair with Roman ...</td>\n",
       "      <td>5.2</td>\n",
       "      <td>420</td>\n",
       "      <td>$ 45000</td>\n",
       "      <td>NaN</td>\n",
       "      <td>NaN</td>\n",
       "      <td>NaN</td>\n",
       "      <td>24.0</td>\n",
       "      <td>3.0</td>\n",
       "      <td>4.797065</td>\n",
       "    </tr>\n",
       "    <tr>\n",
       "      <th>3</th>\n",
       "      <td>tt0002130</td>\n",
       "      <td>L'Inferno</td>\n",
       "      <td>L'Inferno</td>\n",
       "      <td>1911</td>\n",
       "      <td>1911-03-06</td>\n",
       "      <td>Adventure, Drama, Fantasy</td>\n",
       "      <td>68</td>\n",
       "      <td>Italy</td>\n",
       "      <td>Italian</td>\n",
       "      <td>Francesco Bertolini, Adolfo Padovan</td>\n",
       "      <td>...</td>\n",
       "      <td>Loosely adapted from Dante's Divine Comedy and...</td>\n",
       "      <td>7.0</td>\n",
       "      <td>2019</td>\n",
       "      <td>NaN</td>\n",
       "      <td>NaN</td>\n",
       "      <td>NaN</td>\n",
       "      <td>NaN</td>\n",
       "      <td>28.0</td>\n",
       "      <td>14.0</td>\n",
       "      <td>8.190500</td>\n",
       "    </tr>\n",
       "    <tr>\n",
       "      <th>4</th>\n",
       "      <td>tt0002199</td>\n",
       "      <td>From the Manger to the Cross; or, Jesus of Naz...</td>\n",
       "      <td>From the Manger to the Cross; or, Jesus of Naz...</td>\n",
       "      <td>1912</td>\n",
       "      <td>1913</td>\n",
       "      <td>Biography, Drama</td>\n",
       "      <td>60</td>\n",
       "      <td>USA</td>\n",
       "      <td>English</td>\n",
       "      <td>Sidney Olcott</td>\n",
       "      <td>...</td>\n",
       "      <td>An account of the life of Jesus Christ, based ...</td>\n",
       "      <td>5.7</td>\n",
       "      <td>438</td>\n",
       "      <td>NaN</td>\n",
       "      <td>NaN</td>\n",
       "      <td>NaN</td>\n",
       "      <td>NaN</td>\n",
       "      <td>12.0</td>\n",
       "      <td>5.0</td>\n",
       "      <td>5.115736</td>\n",
       "    </tr>\n",
       "  </tbody>\n",
       "</table>\n",
       "<p>5 rows × 23 columns</p>\n",
       "</div>"
      ],
      "text/plain": [
       "  imdb_title_id                                              title  \\\n",
       "0     tt0000574                        The Story of the Kelly Gang   \n",
       "1     tt0001892                                     Den sorte drøm   \n",
       "2     tt0002101                                          Cleopatra   \n",
       "3     tt0002130                                          L'Inferno   \n",
       "4     tt0002199  From the Manger to the Cross; or, Jesus of Naz...   \n",
       "\n",
       "                                      original_title  year date_published  \\\n",
       "0                        The Story of the Kelly Gang  1906     1906-12-26   \n",
       "1                                     Den sorte drøm  1911     1911-08-19   \n",
       "2                                          Cleopatra  1912     1912-11-13   \n",
       "3                                          L'Inferno  1911     1911-03-06   \n",
       "4  From the Manger to the Cross; or, Jesus of Naz...  1912           1913   \n",
       "\n",
       "                       genre  duration           country language  \\\n",
       "0    Biography, Crime, Drama        70         Australia      NaN   \n",
       "1                      Drama        53  Germany, Denmark      NaN   \n",
       "2             Drama, History       100               USA  English   \n",
       "3  Adventure, Drama, Fantasy        68             Italy  Italian   \n",
       "4           Biography, Drama        60               USA  English   \n",
       "\n",
       "                              director  ...  \\\n",
       "0                         Charles Tait  ...   \n",
       "1                            Urban Gad  ...   \n",
       "2                   Charles L. Gaskill  ...   \n",
       "3  Francesco Bertolini, Adolfo Padovan  ...   \n",
       "4                        Sidney Olcott  ...   \n",
       "\n",
       "                                         description avg_vote votes   budget  \\\n",
       "0  True story of notorious Australian outlaw Ned ...      6.1   537   $ 2250   \n",
       "1  Two men of high rank are both wooing the beaut...      5.9   171      NaN   \n",
       "2  The fabled queen of Egypt's affair with Roman ...      5.2   420  $ 45000   \n",
       "3  Loosely adapted from Dante's Divine Comedy and...      7.0  2019      NaN   \n",
       "4  An account of the life of Jesus Christ, based ...      5.7   438      NaN   \n",
       "\n",
       "   usa_gross_income  worlwide_gross_income metascore reviews_from_users  \\\n",
       "0               NaN                    NaN       NaN                7.0   \n",
       "1               NaN                    NaN       NaN                4.0   \n",
       "2               NaN                    NaN       NaN               24.0   \n",
       "3               NaN                    NaN       NaN               28.0   \n",
       "4               NaN                    NaN       NaN               12.0   \n",
       "\n",
       "  reviews_from_critics     score  \n",
       "0                  7.0  5.664431  \n",
       "1                  2.0  3.999685  \n",
       "2                  3.0  4.797065  \n",
       "3                 14.0  8.190500  \n",
       "4                  5.0  5.115736  \n",
       "\n",
       "[5 rows x 23 columns]"
      ]
     },
     "execution_count": 15,
     "metadata": {},
     "output_type": "execute_result"
    }
   ],
   "source": [
    "df_plot = full_dataset.copy()\n",
    "df_plot['score'] = extract_target(df_plot)[1]\n",
    "df_plot.head()"
   ]
  },
  {
   "cell_type": "markdown",
   "metadata": {},
   "source": [
    "## Categorical"
   ]
  },
  {
   "cell_type": "markdown",
   "metadata": {},
   "source": [
    "- imdb_title_id   *(drop)*\n",
    "- title   *(drop)*\n",
    "- original_title   *(drop)*\n",
    "- year   *(CatBoostEncoder, MinMaxScaler)*\n",
    "- date_published   *(extract month, day of week, OHE)*\n",
    "- genre *(CountVectorizer)*\n",
    "- country *(CountVectorizer)*\n",
    "- language *(GroupbyImputer, CatBoostEncoder, MinMaxScaler)*\n",
    "- director *(CatBoostEncoder, MinMaxScaler)*\n",
    "- writer *(drop)*\n",
    "- production_company *(CatBoostEncoder, MinMaxScaler)*\n",
    "- actors *(drop)*\n",
    "- description *(drop)*"
   ]
  },
  {
   "cell_type": "code",
   "execution_count": 16,
   "metadata": {},
   "outputs": [
    {
     "data": {
      "text/html": [
       "<div>\n",
       "<style scoped>\n",
       "    .dataframe tbody tr th:only-of-type {\n",
       "        vertical-align: middle;\n",
       "    }\n",
       "\n",
       "    .dataframe tbody tr th {\n",
       "        vertical-align: top;\n",
       "    }\n",
       "\n",
       "    .dataframe thead th {\n",
       "        text-align: right;\n",
       "    }\n",
       "</style>\n",
       "<table border=\"1\" class=\"dataframe\">\n",
       "  <thead>\n",
       "    <tr style=\"text-align: right;\">\n",
       "      <th></th>\n",
       "      <th>imdb_title_id</th>\n",
       "      <th>title</th>\n",
       "      <th>original_title</th>\n",
       "      <th>date_published</th>\n",
       "      <th>genre</th>\n",
       "      <th>country</th>\n",
       "      <th>language</th>\n",
       "      <th>director</th>\n",
       "      <th>writer</th>\n",
       "      <th>production_company</th>\n",
       "      <th>actors</th>\n",
       "      <th>description</th>\n",
       "      <th>year</th>\n",
       "    </tr>\n",
       "  </thead>\n",
       "  <tbody>\n",
       "    <tr>\n",
       "      <th>count</th>\n",
       "      <td>45148</td>\n",
       "      <td>45148</td>\n",
       "      <td>45148</td>\n",
       "      <td>45148</td>\n",
       "      <td>45148</td>\n",
       "      <td>45144</td>\n",
       "      <td>44813</td>\n",
       "      <td>45132</td>\n",
       "      <td>44548</td>\n",
       "      <td>43104</td>\n",
       "      <td>45125</td>\n",
       "      <td>43647</td>\n",
       "      <td>45148.000000</td>\n",
       "    </tr>\n",
       "    <tr>\n",
       "      <th>unique</th>\n",
       "      <td>45148</td>\n",
       "      <td>43412</td>\n",
       "      <td>43417</td>\n",
       "      <td>16989</td>\n",
       "      <td>1099</td>\n",
       "      <td>2677</td>\n",
       "      <td>2545</td>\n",
       "      <td>19102</td>\n",
       "      <td>36868</td>\n",
       "      <td>17527</td>\n",
       "      <td>45111</td>\n",
       "      <td>43607</td>\n",
       "      <td>NaN</td>\n",
       "    </tr>\n",
       "    <tr>\n",
       "      <th>top</th>\n",
       "      <td>tt0079191</td>\n",
       "      <td>The Three Musketeers</td>\n",
       "      <td>The Three Musketeers</td>\n",
       "      <td>2008</td>\n",
       "      <td>Drama</td>\n",
       "      <td>USA</td>\n",
       "      <td>English</td>\n",
       "      <td>Jesús Franco</td>\n",
       "      <td>Jing Wong</td>\n",
       "      <td>Metro-Goldwyn-Mayer (MGM)</td>\n",
       "      <td>Nobuyo Ôyama, Noriko Ohara, Michiko Nomura, Ka...</td>\n",
       "      <td>Mail</td>\n",
       "      <td>NaN</td>\n",
       "    </tr>\n",
       "    <tr>\n",
       "      <th>freq</th>\n",
       "      <td>1</td>\n",
       "      <td>7</td>\n",
       "      <td>7</td>\n",
       "      <td>75</td>\n",
       "      <td>6262</td>\n",
       "      <td>16681</td>\n",
       "      <td>20410</td>\n",
       "      <td>65</td>\n",
       "      <td>60</td>\n",
       "      <td>968</td>\n",
       "      <td>10</td>\n",
       "      <td>6</td>\n",
       "      <td>NaN</td>\n",
       "    </tr>\n",
       "    <tr>\n",
       "      <th>mean</th>\n",
       "      <td>NaN</td>\n",
       "      <td>NaN</td>\n",
       "      <td>NaN</td>\n",
       "      <td>NaN</td>\n",
       "      <td>NaN</td>\n",
       "      <td>NaN</td>\n",
       "      <td>NaN</td>\n",
       "      <td>NaN</td>\n",
       "      <td>NaN</td>\n",
       "      <td>NaN</td>\n",
       "      <td>NaN</td>\n",
       "      <td>NaN</td>\n",
       "      <td>1985.213542</td>\n",
       "    </tr>\n",
       "    <tr>\n",
       "      <th>std</th>\n",
       "      <td>NaN</td>\n",
       "      <td>NaN</td>\n",
       "      <td>NaN</td>\n",
       "      <td>NaN</td>\n",
       "      <td>NaN</td>\n",
       "      <td>NaN</td>\n",
       "      <td>NaN</td>\n",
       "      <td>NaN</td>\n",
       "      <td>NaN</td>\n",
       "      <td>NaN</td>\n",
       "      <td>NaN</td>\n",
       "      <td>NaN</td>\n",
       "      <td>23.331377</td>\n",
       "    </tr>\n",
       "    <tr>\n",
       "      <th>min</th>\n",
       "      <td>NaN</td>\n",
       "      <td>NaN</td>\n",
       "      <td>NaN</td>\n",
       "      <td>NaN</td>\n",
       "      <td>NaN</td>\n",
       "      <td>NaN</td>\n",
       "      <td>NaN</td>\n",
       "      <td>NaN</td>\n",
       "      <td>NaN</td>\n",
       "      <td>NaN</td>\n",
       "      <td>NaN</td>\n",
       "      <td>NaN</td>\n",
       "      <td>1906.000000</td>\n",
       "    </tr>\n",
       "    <tr>\n",
       "      <th>25%</th>\n",
       "      <td>NaN</td>\n",
       "      <td>NaN</td>\n",
       "      <td>NaN</td>\n",
       "      <td>NaN</td>\n",
       "      <td>NaN</td>\n",
       "      <td>NaN</td>\n",
       "      <td>NaN</td>\n",
       "      <td>NaN</td>\n",
       "      <td>NaN</td>\n",
       "      <td>NaN</td>\n",
       "      <td>NaN</td>\n",
       "      <td>NaN</td>\n",
       "      <td>1970.000000</td>\n",
       "    </tr>\n",
       "    <tr>\n",
       "      <th>50%</th>\n",
       "      <td>NaN</td>\n",
       "      <td>NaN</td>\n",
       "      <td>NaN</td>\n",
       "      <td>NaN</td>\n",
       "      <td>NaN</td>\n",
       "      <td>NaN</td>\n",
       "      <td>NaN</td>\n",
       "      <td>NaN</td>\n",
       "      <td>NaN</td>\n",
       "      <td>NaN</td>\n",
       "      <td>NaN</td>\n",
       "      <td>NaN</td>\n",
       "      <td>1992.000000</td>\n",
       "    </tr>\n",
       "    <tr>\n",
       "      <th>75%</th>\n",
       "      <td>NaN</td>\n",
       "      <td>NaN</td>\n",
       "      <td>NaN</td>\n",
       "      <td>NaN</td>\n",
       "      <td>NaN</td>\n",
       "      <td>NaN</td>\n",
       "      <td>NaN</td>\n",
       "      <td>NaN</td>\n",
       "      <td>NaN</td>\n",
       "      <td>NaN</td>\n",
       "      <td>NaN</td>\n",
       "      <td>NaN</td>\n",
       "      <td>2005.000000</td>\n",
       "    </tr>\n",
       "    <tr>\n",
       "      <th>max</th>\n",
       "      <td>NaN</td>\n",
       "      <td>NaN</td>\n",
       "      <td>NaN</td>\n",
       "      <td>NaN</td>\n",
       "      <td>NaN</td>\n",
       "      <td>NaN</td>\n",
       "      <td>NaN</td>\n",
       "      <td>NaN</td>\n",
       "      <td>NaN</td>\n",
       "      <td>NaN</td>\n",
       "      <td>NaN</td>\n",
       "      <td>NaN</td>\n",
       "      <td>2019.000000</td>\n",
       "    </tr>\n",
       "  </tbody>\n",
       "</table>\n",
       "</div>"
      ],
      "text/plain": [
       "       imdb_title_id                 title        original_title  \\\n",
       "count          45148                 45148                 45148   \n",
       "unique         45148                 43412                 43417   \n",
       "top        tt0079191  The Three Musketeers  The Three Musketeers   \n",
       "freq               1                     7                     7   \n",
       "mean             NaN                   NaN                   NaN   \n",
       "std              NaN                   NaN                   NaN   \n",
       "min              NaN                   NaN                   NaN   \n",
       "25%              NaN                   NaN                   NaN   \n",
       "50%              NaN                   NaN                   NaN   \n",
       "75%              NaN                   NaN                   NaN   \n",
       "max              NaN                   NaN                   NaN   \n",
       "\n",
       "       date_published  genre country language      director     writer  \\\n",
       "count           45148  45148   45144    44813         45132      44548   \n",
       "unique          16989   1099    2677     2545         19102      36868   \n",
       "top              2008  Drama     USA  English  Jesús Franco  Jing Wong   \n",
       "freq               75   6262   16681    20410            65         60   \n",
       "mean              NaN    NaN     NaN      NaN           NaN        NaN   \n",
       "std               NaN    NaN     NaN      NaN           NaN        NaN   \n",
       "min               NaN    NaN     NaN      NaN           NaN        NaN   \n",
       "25%               NaN    NaN     NaN      NaN           NaN        NaN   \n",
       "50%               NaN    NaN     NaN      NaN           NaN        NaN   \n",
       "75%               NaN    NaN     NaN      NaN           NaN        NaN   \n",
       "max               NaN    NaN     NaN      NaN           NaN        NaN   \n",
       "\n",
       "               production_company  \\\n",
       "count                       43104   \n",
       "unique                      17527   \n",
       "top     Metro-Goldwyn-Mayer (MGM)   \n",
       "freq                          968   \n",
       "mean                          NaN   \n",
       "std                           NaN   \n",
       "min                           NaN   \n",
       "25%                           NaN   \n",
       "50%                           NaN   \n",
       "75%                           NaN   \n",
       "max                           NaN   \n",
       "\n",
       "                                                   actors description  \\\n",
       "count                                               45125       43647   \n",
       "unique                                              45111       43607   \n",
       "top     Nobuyo Ôyama, Noriko Ohara, Michiko Nomura, Ka...        Mail   \n",
       "freq                                                   10           6   \n",
       "mean                                                  NaN         NaN   \n",
       "std                                                   NaN         NaN   \n",
       "min                                                   NaN         NaN   \n",
       "25%                                                   NaN         NaN   \n",
       "50%                                                   NaN         NaN   \n",
       "75%                                                   NaN         NaN   \n",
       "max                                                   NaN         NaN   \n",
       "\n",
       "                year  \n",
       "count   45148.000000  \n",
       "unique           NaN  \n",
       "top              NaN  \n",
       "freq             NaN  \n",
       "mean     1985.213542  \n",
       "std        23.331377  \n",
       "min      1906.000000  \n",
       "25%      1970.000000  \n",
       "50%      1992.000000  \n",
       "75%      2005.000000  \n",
       "max      2019.000000  "
      ]
     },
     "execution_count": 16,
     "metadata": {},
     "output_type": "execute_result"
    }
   ],
   "source": [
    "cat_cols = list(X_tr.select_dtypes('O').drop(['budget', 'usa_gross_income', 'worlwide_gross_income'], axis=1).columns) + ['year']\n",
    "X_tr[cat_cols].describe(include='all')"
   ]
  },
  {
   "cell_type": "markdown",
   "metadata": {},
   "source": [
    "### Imdb_title_id, title, original_title"
   ]
  },
  {
   "cell_type": "code",
   "execution_count": 17,
   "metadata": {},
   "outputs": [
    {
     "data": {
      "text/plain": [
       "imdb_title_id     100.0%\n",
       "title             95.16%\n",
       "original_title    95.17%\n",
       "dtype: object"
      ]
     },
     "execution_count": 17,
     "metadata": {},
     "output_type": "execute_result"
    }
   ],
   "source": [
    "round(full_dataset[['imdb_title_id', 'title', 'original_title']].nunique() /full_dataset.shape[0] * 100, 2)\\\n",
    ".astype(str) + '%'"
   ]
  },
  {
   "cell_type": "markdown",
   "metadata": {},
   "source": [
    "These 3 features have very high cardinality, with almost 100% unique values. Also,they don't carry any meaningfull information so we can sefely drop them."
   ]
  },
  {
   "cell_type": "markdown",
   "metadata": {},
   "source": [
    "### Year, date_published"
   ]
  },
  {
   "cell_type": "code",
   "execution_count": 18,
   "metadata": {},
   "outputs": [
    {
     "name": "stdout",
     "output_type": "stream",
     "text": [
      "Missing values: \n",
      "year              0\n",
      "date_published    0\n",
      "dtype: int64\n"
     ]
    }
   ],
   "source": [
    "print(f\"Missing values: \\n{full_dataset[['year', 'date_published']].isna().sum()}\")"
   ]
  },
  {
   "cell_type": "markdown",
   "metadata": {},
   "source": [
    "Let's look how the average score changes with passing years"
   ]
  },
  {
   "cell_type": "code",
   "execution_count": 19,
   "metadata": {},
   "outputs": [
    {
     "data": {
      "image/png": "[encoded data removed]",
      "text/plain": [
       "<Figure size 432x288 with 1 Axes>"
      ]
     },
     "metadata": {
      "needs_background": "light"
     },
     "output_type": "display_data"
    }
   ],
   "source": [
    "df_plot.groupby('year')['score'].mean().plot();"
   ]
  },
  {
   "cell_type": "markdown",
   "metadata": {},
   "source": [
    "Seems reasonable to use this feature in our model, but first we will need to impute it (SimpleImputer will do in this case) and encode it apporpiately (OHE)."
   ]
  },
  {
   "cell_type": "markdown",
   "metadata": {},
   "source": [
    "Next we will analyze how month or type of day when the film was released affect score"
   ]
  },
  {
   "cell_type": "code",
   "execution_count": 20,
   "metadata": {},
   "outputs": [],
   "source": [
    "df_plot['date_published'] = pd.to_datetime(df_plot['date_published'])\n",
    "df_plot['month'] = df_plot['date_published'].dt.month\n",
    "df_plot['day_of_week'] = df_plot['date_published'].dt.dayofweek"
   ]
  },
  {
   "cell_type": "code",
   "execution_count": 21,
   "metadata": {},
   "outputs": [
    {
     "data": {
      "image/png": "[encoded data removed]",
      "text/plain": [
       "<Figure size 432x288 with 1 Axes>"
      ]
     },
     "metadata": {
      "needs_background": "light"
     },
     "output_type": "display_data"
    }
   ],
   "source": [
    "sns.boxenplot(data=df_plot, x='month', y='score');"
   ]
  },
  {
   "cell_type": "code",
   "execution_count": 22,
   "metadata": {},
   "outputs": [
    {
     "data": {
      "image/png": "[encoded data removed]",
      "text/plain": [
       "<Figure size 432x288 with 1 Axes>"
      ]
     },
     "metadata": {
      "needs_background": "light"
     },
     "output_type": "display_data"
    }
   ],
   "source": [
    "sns.boxenplot(data=df_plot, x='day_of_week', y='score');"
   ]
  },
  {
   "cell_type": "markdown",
   "metadata": {},
   "source": [
    "Both features can be used here. Month distribution seems uniform however there is a strange fluctuatuion in January, this could possibly mean something. Because these two features are not actually numerical, but rather categorical we will encode them with OHE"
   ]
  },
  {
   "cell_type": "markdown",
   "metadata": {},
   "source": [
    "### Genre"
   ]
  },
  {
   "cell_type": "code",
   "execution_count": 23,
   "metadata": {},
   "outputs": [
    {
     "name": "stdout",
     "output_type": "stream",
     "text": [
      "Missing values: 0\n"
     ]
    }
   ],
   "source": [
    "print(f\"Missing values: {full_dataset['genre'].isna().sum()}\")"
   ]
  },
  {
   "cell_type": "markdown",
   "metadata": {},
   "source": [
    "We will use CountVectorizer for tokenization and encoding of all possbile genres. We will include custom pattern to iinclude genres with hyphen in them as one genre instead of two."
   ]
  },
  {
   "cell_type": "code",
   "execution_count": 24,
   "metadata": {},
   "outputs": [
    {
     "data": {
      "text/plain": [
       "['action',\n",
       " 'adult',\n",
       " 'adventure',\n",
       " 'animation',\n",
       " 'biography',\n",
       " 'comedy',\n",
       " 'crime',\n",
       " 'documentary',\n",
       " 'drama',\n",
       " 'family',\n",
       " 'fantasy',\n",
       " 'film-noir',\n",
       " 'history',\n",
       " 'horror',\n",
       " 'music',\n",
       " 'musical',\n",
       " 'mystery',\n",
       " 'reality-tv',\n",
       " 'romance',\n",
       " 'sci-fi',\n",
       " 'sport',\n",
       " 'thriller',\n",
       " 'war',\n",
       " 'western']"
      ]
     },
     "execution_count": 24,
     "metadata": {},
     "output_type": "execute_result"
    }
   ],
   "source": [
    "cv = CountVectorizer(token_pattern='(?u)\\\\b[\\\\w-]+\\\\b')\n",
    "genres = cv.fit_transform(df_plot['genre'])\n",
    "cv.get_feature_names()"
   ]
  },
  {
   "cell_type": "code",
   "execution_count": 25,
   "metadata": {},
   "outputs": [
    {
     "data": {
      "text/html": [
       "<div>\n",
       "<style scoped>\n",
       "    .dataframe tbody tr th:only-of-type {\n",
       "        vertical-align: middle;\n",
       "    }\n",
       "\n",
       "    .dataframe tbody tr th {\n",
       "        vertical-align: top;\n",
       "    }\n",
       "\n",
       "    .dataframe thead th {\n",
       "        text-align: right;\n",
       "    }\n",
       "</style>\n",
       "<table border=\"1\" class=\"dataframe\">\n",
       "  <thead>\n",
       "    <tr style=\"text-align: right;\">\n",
       "      <th></th>\n",
       "      <th>action</th>\n",
       "      <th>adult</th>\n",
       "      <th>adventure</th>\n",
       "      <th>animation</th>\n",
       "      <th>biography</th>\n",
       "      <th>comedy</th>\n",
       "      <th>crime</th>\n",
       "      <th>documentary</th>\n",
       "      <th>drama</th>\n",
       "      <th>family</th>\n",
       "      <th>...</th>\n",
       "      <th>musical</th>\n",
       "      <th>mystery</th>\n",
       "      <th>reality-tv</th>\n",
       "      <th>romance</th>\n",
       "      <th>sci-fi</th>\n",
       "      <th>sport</th>\n",
       "      <th>thriller</th>\n",
       "      <th>war</th>\n",
       "      <th>western</th>\n",
       "      <th>score</th>\n",
       "    </tr>\n",
       "  </thead>\n",
       "  <tbody>\n",
       "    <tr>\n",
       "      <th>0</th>\n",
       "      <td>0</td>\n",
       "      <td>0</td>\n",
       "      <td>0</td>\n",
       "      <td>0</td>\n",
       "      <td>1</td>\n",
       "      <td>0</td>\n",
       "      <td>1</td>\n",
       "      <td>0</td>\n",
       "      <td>1</td>\n",
       "      <td>0</td>\n",
       "      <td>...</td>\n",
       "      <td>0</td>\n",
       "      <td>0</td>\n",
       "      <td>0</td>\n",
       "      <td>0</td>\n",
       "      <td>0</td>\n",
       "      <td>0</td>\n",
       "      <td>0</td>\n",
       "      <td>0</td>\n",
       "      <td>0</td>\n",
       "      <td>5.664431</td>\n",
       "    </tr>\n",
       "    <tr>\n",
       "      <th>1</th>\n",
       "      <td>0</td>\n",
       "      <td>0</td>\n",
       "      <td>0</td>\n",
       "      <td>0</td>\n",
       "      <td>0</td>\n",
       "      <td>0</td>\n",
       "      <td>0</td>\n",
       "      <td>0</td>\n",
       "      <td>1</td>\n",
       "      <td>0</td>\n",
       "      <td>...</td>\n",
       "      <td>0</td>\n",
       "      <td>0</td>\n",
       "      <td>0</td>\n",
       "      <td>0</td>\n",
       "      <td>0</td>\n",
       "      <td>0</td>\n",
       "      <td>0</td>\n",
       "      <td>0</td>\n",
       "      <td>0</td>\n",
       "      <td>3.999685</td>\n",
       "    </tr>\n",
       "    <tr>\n",
       "      <th>2</th>\n",
       "      <td>0</td>\n",
       "      <td>0</td>\n",
       "      <td>0</td>\n",
       "      <td>0</td>\n",
       "      <td>0</td>\n",
       "      <td>0</td>\n",
       "      <td>0</td>\n",
       "      <td>0</td>\n",
       "      <td>1</td>\n",
       "      <td>0</td>\n",
       "      <td>...</td>\n",
       "      <td>0</td>\n",
       "      <td>0</td>\n",
       "      <td>0</td>\n",
       "      <td>0</td>\n",
       "      <td>0</td>\n",
       "      <td>0</td>\n",
       "      <td>0</td>\n",
       "      <td>0</td>\n",
       "      <td>0</td>\n",
       "      <td>4.797065</td>\n",
       "    </tr>\n",
       "    <tr>\n",
       "      <th>3</th>\n",
       "      <td>0</td>\n",
       "      <td>0</td>\n",
       "      <td>1</td>\n",
       "      <td>0</td>\n",
       "      <td>0</td>\n",
       "      <td>0</td>\n",
       "      <td>0</td>\n",
       "      <td>0</td>\n",
       "      <td>1</td>\n",
       "      <td>0</td>\n",
       "      <td>...</td>\n",
       "      <td>0</td>\n",
       "      <td>0</td>\n",
       "      <td>0</td>\n",
       "      <td>0</td>\n",
       "      <td>0</td>\n",
       "      <td>0</td>\n",
       "      <td>0</td>\n",
       "      <td>0</td>\n",
       "      <td>0</td>\n",
       "      <td>8.190500</td>\n",
       "    </tr>\n",
       "    <tr>\n",
       "      <th>4</th>\n",
       "      <td>0</td>\n",
       "      <td>0</td>\n",
       "      <td>0</td>\n",
       "      <td>0</td>\n",
       "      <td>1</td>\n",
       "      <td>0</td>\n",
       "      <td>0</td>\n",
       "      <td>0</td>\n",
       "      <td>1</td>\n",
       "      <td>0</td>\n",
       "      <td>...</td>\n",
       "      <td>0</td>\n",
       "      <td>0</td>\n",
       "      <td>0</td>\n",
       "      <td>0</td>\n",
       "      <td>0</td>\n",
       "      <td>0</td>\n",
       "      <td>0</td>\n",
       "      <td>0</td>\n",
       "      <td>0</td>\n",
       "      <td>5.115736</td>\n",
       "    </tr>\n",
       "  </tbody>\n",
       "</table>\n",
       "<p>5 rows × 25 columns</p>\n",
       "</div>"
      ],
      "text/plain": [
       "   action  adult  adventure  animation  biography  comedy  crime  documentary  \\\n",
       "0       0      0          0          0          1       0      1            0   \n",
       "1       0      0          0          0          0       0      0            0   \n",
       "2       0      0          0          0          0       0      0            0   \n",
       "3       0      0          1          0          0       0      0            0   \n",
       "4       0      0          0          0          1       0      0            0   \n",
       "\n",
       "   drama  family  ...  musical  mystery  reality-tv  romance  sci-fi  sport  \\\n",
       "0      1       0  ...        0        0           0        0       0      0   \n",
       "1      1       0  ...        0        0           0        0       0      0   \n",
       "2      1       0  ...        0        0           0        0       0      0   \n",
       "3      1       0  ...        0        0           0        0       0      0   \n",
       "4      1       0  ...        0        0           0        0       0      0   \n",
       "\n",
       "   thriller  war  western     score  \n",
       "0         0    0        0  5.664431  \n",
       "1         0    0        0  3.999685  \n",
       "2         0    0        0  4.797065  \n",
       "3         0    0        0  8.190500  \n",
       "4         0    0        0  5.115736  \n",
       "\n",
       "[5 rows x 25 columns]"
      ]
     },
     "execution_count": 25,
     "metadata": {},
     "output_type": "execute_result"
    }
   ],
   "source": [
    "genres_df = pd.DataFrame(genres.toarray(), columns=cv.get_feature_names())\n",
    "genres_df['score'] = df_plot['score']\n",
    "genres_df.head()"
   ]
  },
  {
   "cell_type": "code",
   "execution_count": 26,
   "metadata": {
    "scrolled": false
   },
   "outputs": [
    {
     "data": {
      "text/plain": [
       "['action',\n",
       " 'adult',\n",
       " 'adventure',\n",
       " 'animation',\n",
       " 'biography',\n",
       " 'comedy',\n",
       " 'crime',\n",
       " 'documentary',\n",
       " 'drama',\n",
       " 'family',\n",
       " 'fantasy',\n",
       " 'film-noir',\n",
       " 'history',\n",
       " 'horror',\n",
       " 'music',\n",
       " 'musical',\n",
       " 'mystery',\n",
       " 'reality-tv',\n",
       " 'romance',\n",
       " 'sci-fi',\n",
       " 'sport',\n",
       " 'thriller',\n",
       " 'war',\n",
       " 'western']"
      ]
     },
     "execution_count": 26,
     "metadata": {},
     "output_type": "execute_result"
    }
   ],
   "source": [
    "cv.get_feature_names()"
   ]
  },
  {
   "cell_type": "code",
   "execution_count": 27,
   "metadata": {},
   "outputs": [],
   "source": [
    "plot_genres = pd.melt(genres_df, var_name='genres', id_vars='score')\n",
    "plot_genres = plot_genres[plot_genres['value'] == 1]"
   ]
  },
  {
   "cell_type": "code",
   "execution_count": 28,
   "metadata": {},
   "outputs": [
    {
     "data": {
      "image/png": "[encoded data removed]",
      "text/plain": [
       "<Figure size 1152x720 with 1 Axes>"
      ]
     },
     "metadata": {
      "needs_background": "light"
     },
     "output_type": "display_data"
    }
   ],
   "source": [
    "plt.figure(figsize=(16, 10))\n",
    "sns.boxenplot(data=plot_genres, x='genres', y='score')\n",
    "plt.xticks(rotation=70);"
   ]
  },
  {
   "cell_type": "markdown",
   "metadata": {},
   "source": [
    "We will use this feature."
   ]
  },
  {
   "cell_type": "markdown",
   "metadata": {},
   "source": [
    "### Country, language"
   ]
  },
  {
   "cell_type": "code",
   "execution_count": 29,
   "metadata": {},
   "outputs": [
    {
     "name": "stdout",
     "output_type": "stream",
     "text": [
      "Missing values: \n",
      "country       5\n",
      "language    439\n",
      "dtype: int64\n"
     ]
    }
   ],
   "source": [
    "print(f\"Missing values: \\n{full_dataset[['country','language']].isna().sum()}\")"
   ]
  },
  {
   "cell_type": "markdown",
   "metadata": {},
   "source": [
    "For country we will use CatBoost Encoder, which will handle missing values for us."
   ]
  },
  {
   "cell_type": "markdown",
   "metadata": {},
   "source": [
    "We will look at our score distribution based on top 10 most frequent countries first"
   ]
  },
  {
   "cell_type": "code",
   "execution_count": 30,
   "metadata": {
    "scrolled": true
   },
   "outputs": [
    {
     "data": {
      "text/plain": [
       "USA          22080\n",
       "India         3041\n",
       "UK            2992\n",
       "France        2330\n",
       "Japan         2132\n",
       "Italy         1871\n",
       "Canada        1139\n",
       "Hong Kong     1090\n",
       "Germany        903\n",
       "Spain          844\n",
       "Name: country, dtype: int64"
      ]
     },
     "execution_count": 30,
     "metadata": {},
     "output_type": "execute_result"
    }
   ],
   "source": [
    "cty = df_plot['country'].value_counts().iloc[:10]\n",
    "cty"
   ]
  },
  {
   "cell_type": "code",
   "execution_count": 31,
   "metadata": {},
   "outputs": [
    {
     "data": {
      "image/png": "[encoded data removed]",
      "text/plain": [
       "<Figure size 432x288 with 1 Axes>"
      ]
     },
     "metadata": {
      "needs_background": "light"
     },
     "output_type": "display_data"
    }
   ],
   "source": [
    "sns.boxenplot(data=df_plot[df_plot.country.isin(cty.index)], x='country', y='score')\n",
    "plt.xticks(rotation=70);"
   ]
  },
  {
   "cell_type": "markdown",
   "metadata": {},
   "source": [
    "Now let's analyze language of the movies. Again we will take top 10 languages"
   ]
  },
  {
   "cell_type": "code",
   "execution_count": 32,
   "metadata": {},
   "outputs": [
    {
     "data": {
      "text/plain": [
       "English             27008\n",
       "French               2972\n",
       "Italian              2202\n",
       "Japanese             1915\n",
       "Spanish              1837\n",
       "German               1340\n",
       "Hindi                1340\n",
       "Russian               934\n",
       "English, Spanish      849\n",
       "Turkish               731\n",
       "Name: language, dtype: int64"
      ]
     },
     "execution_count": 32,
     "metadata": {},
     "output_type": "execute_result"
    }
   ],
   "source": [
    "lang = df_plot['language'].value_counts().iloc[:10]\n",
    "lang"
   ]
  },
  {
   "cell_type": "code",
   "execution_count": 33,
   "metadata": {},
   "outputs": [
    {
     "data": {
      "image/png": "[encoded data removed]",
      "text/plain": [
       "<Figure size 432x288 with 1 Axes>"
      ]
     },
     "metadata": {
      "needs_background": "light"
     },
     "output_type": "display_data"
    }
   ],
   "source": [
    "sns.boxenplot(data=df_plot[df_plot.language.isin(lang.index)], x='language', y='score')\n",
    "plt.xticks(rotation=70);"
   ]
  },
  {
   "cell_type": "code",
   "execution_count": 34,
   "metadata": {},
   "outputs": [
    {
     "data": {
      "text/plain": [
       "(439, 3192)"
      ]
     },
     "execution_count": 34,
     "metadata": {},
     "output_type": "execute_result"
    }
   ],
   "source": [
    "df_plot.language.isna().sum(), df_plot.language.nunique()"
   ]
  },
  {
   "cell_type": "markdown",
   "metadata": {},
   "source": [
    "We see pretty high variance here and this is good for the feature. We will use it. But it has considerable amount of missing values. It will not be correct to use most frequent SimpleImputer here becuse language depends on the country where the movie was casted. So we will use custom imputer here and then we will CatBoost Encode this feature, due to it's high cardinality"
   ]
  },
  {
   "cell_type": "code",
   "execution_count": 279,
   "metadata": {},
   "outputs": [],
   "source": [
    "class GroupbyImputer(TransformerMixin, BaseEstimator):\n",
    "\n",
    "    \n",
    "    def __init__(self, groupby_column, train_value=None):\n",
    "        self.groupby_column = groupby_column\n",
    "        self.train_value = train_value\n",
    "\n",
    "\n",
    "    def fit(self, X, y=None):\n",
    "        self.res = X.drop(self.groupby_column, axis=1).iloc[:, 0]\n",
    "        self.train_value = (\n",
    "            X.dropna(subset=['language'])\n",
    "            .groupby(self.groupby_column)\n",
    "            .agg(lambda X: X.value_counts().index[0])\n",
    "        )\n",
    "        \n",
    "        # calculate overall mode of null_column\n",
    "        self.overall = self.res.mode()[0]\n",
    "\n",
    "        return self\n",
    "\n",
    "    def transform(self, X):\n",
    "        self.res = X.drop(self.groupby_column, axis=1).iloc[:, 0]\n",
    "#         impute missing values based on train_value\n",
    "        if isinstance(self.groupby_column, str):\n",
    "\n",
    "            # impute nulls with corresponding value\n",
    "            self.res = self.res.where(self.res.notna(), X[self.groupby_column].map(lambda x: self.train_value.get(x)))\n",
    "\n",
    "            # impute any remainig nulls with overall value\n",
    "            self.res = self.res.fillna(value=self.overall)\n",
    "        return pd.DataFrame(self.res)"
   ]
  },
  {
   "cell_type": "markdown",
   "metadata": {},
   "source": [
    "After imputing we will encode both variables with TargetEncoder"
   ]
  },
  {
   "cell_type": "markdown",
   "metadata": {},
   "source": [
    "### Director, writer, production_company"
   ]
  },
  {
   "cell_type": "code",
   "execution_count": 36,
   "metadata": {},
   "outputs": [
    {
     "name": "stdout",
     "output_type": "stream",
     "text": [
      "Missing values: \n",
      "director                24\n",
      "writer                 808\n",
      "production_company    2744\n",
      "dtype: int64\n"
     ]
    }
   ],
   "source": [
    "print(f\"Missing values: \\n{full_dataset[['director', 'writer', 'production_company']].isna().sum()}\")"
   ]
  },
  {
   "cell_type": "code",
   "execution_count": 37,
   "metadata": {
    "scrolled": true
   },
   "outputs": [
    {
     "data": {
      "text/plain": [
       "director              37.83%\n",
       "writer                78.98%\n",
       "production_company    35.62%\n",
       "dtype: object"
      ]
     },
     "execution_count": 37,
     "metadata": {},
     "output_type": "execute_result"
    }
   ],
   "source": [
    "round(full_dataset[['director', 'writer', 'production_company']].nunique() /full_dataset.shape[0] * 100, 2)\\\n",
    ".astype(str) + '%'"
   ]
  },
  {
   "cell_type": "markdown",
   "metadata": {},
   "source": [
    "Writer feature has too high variance, so we will drop them. Other two are pretty unique as well, but we will try to extract some information from them. We will use CatBoostEncoder here."
   ]
  },
  {
   "cell_type": "markdown",
   "metadata": {},
   "source": [
    "### Actors, description"
   ]
  },
  {
   "cell_type": "code",
   "execution_count": 38,
   "metadata": {},
   "outputs": [
    {
     "name": "stdout",
     "output_type": "stream",
     "text": [
      "Missing values: \n",
      "actors           30\n",
      "description    1993\n",
      "dtype: int64\n"
     ]
    }
   ],
   "source": [
    "print(f\"Missing values: \\n{full_dataset[['actors', 'description']].isna().sum()}\")"
   ]
  },
  {
   "cell_type": "markdown",
   "metadata": {},
   "source": [
    "Let's analyze actors."
   ]
  },
  {
   "cell_type": "code",
   "execution_count": 39,
   "metadata": {},
   "outputs": [
    {
     "data": {
      "text/plain": [
       "0        [Elizabeth Tait, John Tait, Norman Campbell, B...\n",
       "1        [Asta Nielsen, Valdemar Psilander, Gunnar Hels...\n",
       "2        [Helen Gardner, Pearl Sindelar, Miss Fielding,...\n",
       "3        [Salvatore Papa, Arturo Pirovano, Giuseppe de ...\n",
       "4        [R. Henderson Bland, Percy Dyer, Gene Gauntier...\n",
       "                               ...                        \n",
       "60193    [Quynh Hoa, Khuong Ngoc, Elly Nguyen, Phan Tan...\n",
       "60194    [Kalki Koechlin, Shiv Panditt, Gulshan Devaiah...\n",
       "60195                                                  NaN\n",
       "60196    [Eric Roberts, Antonio Fargas, Ethan Landry, A...\n",
       "60197    [Clayne Crawford, Travis Fimmel, Daniel Cudmor...\n",
       "Name: actors, Length: 60198, dtype: object"
      ]
     },
     "execution_count": 39,
     "metadata": {},
     "output_type": "execute_result"
    }
   ],
   "source": [
    "actors_lists = df_plot['actors'].str.split(',').apply(lambda x:list(map(str.strip, x)) if type(x) == list else x)\n",
    "actors_lists"
   ]
  },
  {
   "cell_type": "code",
   "execution_count": 40,
   "metadata": {},
   "outputs": [
    {
     "data": {
      "text/plain": [
       "<60168x294921 sparse matrix of type '<class 'numpy.int64'>'\n",
       "\twith 818221 stored elements in Compressed Sparse Row format>"
      ]
     },
     "execution_count": 40,
     "metadata": {},
     "output_type": "execute_result"
    }
   ],
   "source": [
    "cv_actors = CountVectorizer(analyzer=lambda x: x, lowercase=False)\n",
    "cv_actors.fit_transform(actors_lists.dropna())"
   ]
  },
  {
   "cell_type": "code",
   "execution_count": 41,
   "metadata": {},
   "outputs": [
    {
     "data": {
      "text/plain": [
       "294921"
      ]
     },
     "execution_count": 41,
     "metadata": {},
     "output_type": "execute_result"
    }
   ],
   "source": [
    "len(cv_actors.get_feature_names())"
   ]
  },
  {
   "cell_type": "markdown",
   "metadata": {},
   "source": [
    "As we can see we have got almost 300000 actors. Using such amount of features will negatively affect model performance, so we will get rid of this feature. Same goes to description."
   ]
  },
  {
   "cell_type": "code",
   "execution_count": 42,
   "metadata": {},
   "outputs": [
    {
     "data": {
      "text/plain": [
       "<58205x56947 sparse matrix of type '<class 'numpy.int64'>'\n",
       "\twith 834018 stored elements in Compressed Sparse Row format>"
      ]
     },
     "execution_count": 42,
     "metadata": {},
     "output_type": "execute_result"
    }
   ],
   "source": [
    "cv_descr = CountVectorizer(stop_words='english')\n",
    "cv_descr.fit_transform(df_plot['description'].dropna())"
   ]
  },
  {
   "cell_type": "code",
   "execution_count": 43,
   "metadata": {
    "scrolled": true
   },
   "outputs": [
    {
     "data": {
      "text/plain": [
       "56947"
      ]
     },
     "execution_count": 43,
     "metadata": {},
     "output_type": "execute_result"
    }
   ],
   "source": [
    "len(cv_descr.get_feature_names())"
   ]
  },
  {
   "cell_type": "markdown",
   "metadata": {},
   "source": [
    "Thus, we drop both features."
   ]
  },
  {
   "cell_type": "markdown",
   "metadata": {},
   "source": [
    "## Numeric"
   ]
  },
  {
   "cell_type": "markdown",
   "metadata": {},
   "source": [
    "- budget *(CustomConverter, MinMaxScaler)*\n",
    "- usa_gross_income *(drop)*\n",
    "- worlwide_gross_income *(drop)*\n",
    "- duration *(MinMaxScaler)*\n",
    "- metascore *(drop)*\n",
    "- reviews_from_users *(drop)*\n",
    "- reviews_from_critics *(drop)*"
   ]
  },
  {
   "cell_type": "code",
   "execution_count": 44,
   "metadata": {},
   "outputs": [
    {
     "data": {
      "text/html": [
       "<div>\n",
       "<style scoped>\n",
       "    .dataframe tbody tr th:only-of-type {\n",
       "        vertical-align: middle;\n",
       "    }\n",
       "\n",
       "    .dataframe tbody tr th {\n",
       "        vertical-align: top;\n",
       "    }\n",
       "\n",
       "    .dataframe thead th {\n",
       "        text-align: right;\n",
       "    }\n",
       "</style>\n",
       "<table border=\"1\" class=\"dataframe\">\n",
       "  <thead>\n",
       "    <tr style=\"text-align: right;\">\n",
       "      <th></th>\n",
       "      <th>duration</th>\n",
       "      <th>metascore</th>\n",
       "      <th>reviews_from_users</th>\n",
       "      <th>reviews_from_critics</th>\n",
       "      <th>budget</th>\n",
       "      <th>usa_gross_income</th>\n",
       "      <th>worlwide_gross_income</th>\n",
       "    </tr>\n",
       "  </thead>\n",
       "  <tbody>\n",
       "    <tr>\n",
       "      <th>count</th>\n",
       "      <td>45148.000000</td>\n",
       "      <td>6567.000000</td>\n",
       "      <td>42099.000000</td>\n",
       "      <td>38985.000000</td>\n",
       "      <td>12647</td>\n",
       "      <td>8890</td>\n",
       "      <td>14288</td>\n",
       "    </tr>\n",
       "    <tr>\n",
       "      <th>unique</th>\n",
       "      <td>NaN</td>\n",
       "      <td>NaN</td>\n",
       "      <td>NaN</td>\n",
       "      <td>NaN</td>\n",
       "      <td>2867</td>\n",
       "      <td>8642</td>\n",
       "      <td>14146</td>\n",
       "    </tr>\n",
       "    <tr>\n",
       "      <th>top</th>\n",
       "      <td>NaN</td>\n",
       "      <td>NaN</td>\n",
       "      <td>NaN</td>\n",
       "      <td>NaN</td>\n",
       "      <td>$ 1000000</td>\n",
       "      <td>$ 1000000</td>\n",
       "      <td>$ 8144</td>\n",
       "    </tr>\n",
       "    <tr>\n",
       "      <th>freq</th>\n",
       "      <td>NaN</td>\n",
       "      <td>NaN</td>\n",
       "      <td>NaN</td>\n",
       "      <td>NaN</td>\n",
       "      <td>396</td>\n",
       "      <td>17</td>\n",
       "      <td>14</td>\n",
       "    </tr>\n",
       "    <tr>\n",
       "      <th>mean</th>\n",
       "      <td>99.662665</td>\n",
       "      <td>55.540125</td>\n",
       "      <td>45.079978</td>\n",
       "      <td>27.265769</td>\n",
       "      <td>NaN</td>\n",
       "      <td>NaN</td>\n",
       "      <td>NaN</td>\n",
       "    </tr>\n",
       "    <tr>\n",
       "      <th>std</th>\n",
       "      <td>22.974586</td>\n",
       "      <td>17.932656</td>\n",
       "      <td>154.454088</td>\n",
       "      <td>55.786679</td>\n",
       "      <td>NaN</td>\n",
       "      <td>NaN</td>\n",
       "      <td>NaN</td>\n",
       "    </tr>\n",
       "    <tr>\n",
       "      <th>min</th>\n",
       "      <td>40.000000</td>\n",
       "      <td>1.000000</td>\n",
       "      <td>1.000000</td>\n",
       "      <td>1.000000</td>\n",
       "      <td>NaN</td>\n",
       "      <td>NaN</td>\n",
       "      <td>NaN</td>\n",
       "    </tr>\n",
       "    <tr>\n",
       "      <th>25%</th>\n",
       "      <td>88.000000</td>\n",
       "      <td>43.000000</td>\n",
       "      <td>4.000000</td>\n",
       "      <td>3.000000</td>\n",
       "      <td>NaN</td>\n",
       "      <td>NaN</td>\n",
       "      <td>NaN</td>\n",
       "    </tr>\n",
       "    <tr>\n",
       "      <th>50%</th>\n",
       "      <td>95.000000</td>\n",
       "      <td>56.000000</td>\n",
       "      <td>10.000000</td>\n",
       "      <td>8.000000</td>\n",
       "      <td>NaN</td>\n",
       "      <td>NaN</td>\n",
       "      <td>NaN</td>\n",
       "    </tr>\n",
       "    <tr>\n",
       "      <th>75%</th>\n",
       "      <td>107.000000</td>\n",
       "      <td>68.000000</td>\n",
       "      <td>28.000000</td>\n",
       "      <td>24.000000</td>\n",
       "      <td>NaN</td>\n",
       "      <td>NaN</td>\n",
       "      <td>NaN</td>\n",
       "    </tr>\n",
       "    <tr>\n",
       "      <th>max</th>\n",
       "      <td>729.000000</td>\n",
       "      <td>100.000000</td>\n",
       "      <td>7029.000000</td>\n",
       "      <td>837.000000</td>\n",
       "      <td>NaN</td>\n",
       "      <td>NaN</td>\n",
       "      <td>NaN</td>\n",
       "    </tr>\n",
       "  </tbody>\n",
       "</table>\n",
       "</div>"
      ],
      "text/plain": [
       "            duration    metascore  reviews_from_users  reviews_from_critics  \\\n",
       "count   45148.000000  6567.000000        42099.000000          38985.000000   \n",
       "unique           NaN          NaN                 NaN                   NaN   \n",
       "top              NaN          NaN                 NaN                   NaN   \n",
       "freq             NaN          NaN                 NaN                   NaN   \n",
       "mean       99.662665    55.540125           45.079978             27.265769   \n",
       "std        22.974586    17.932656          154.454088             55.786679   \n",
       "min        40.000000     1.000000            1.000000              1.000000   \n",
       "25%        88.000000    43.000000            4.000000              3.000000   \n",
       "50%        95.000000    56.000000           10.000000              8.000000   \n",
       "75%       107.000000    68.000000           28.000000             24.000000   \n",
       "max       729.000000   100.000000         7029.000000            837.000000   \n",
       "\n",
       "           budget usa_gross_income worlwide_gross_income  \n",
       "count       12647             8890                 14288  \n",
       "unique       2867             8642                 14146  \n",
       "top     $ 1000000        $ 1000000                $ 8144  \n",
       "freq          396               17                    14  \n",
       "mean          NaN              NaN                   NaN  \n",
       "std           NaN              NaN                   NaN  \n",
       "min           NaN              NaN                   NaN  \n",
       "25%           NaN              NaN                   NaN  \n",
       "50%           NaN              NaN                   NaN  \n",
       "75%           NaN              NaN                   NaN  \n",
       "max           NaN              NaN                   NaN  "
      ]
     },
     "execution_count": 44,
     "metadata": {},
     "output_type": "execute_result"
    }
   ],
   "source": [
    "num_cols = list(full_dataset.select_dtypes('number').drop(['year', 'avg_vote', 'votes'], axis=1).columns)\\\n",
    "           + ['budget', 'usa_gross_income', 'worlwide_gross_income']\n",
    "X_tr[num_cols].describe(include='all')"
   ]
  },
  {
   "cell_type": "markdown",
   "metadata": {},
   "source": [
    "### Budget,  usa_gross_income, worlwide_gross_income"
   ]
  },
  {
   "cell_type": "code",
   "execution_count": 45,
   "metadata": {},
   "outputs": [
    {
     "name": "stdout",
     "output_type": "stream",
     "text": [
      "Missing values: \n",
      "budget                   43379\n",
      "usa_gross_income         48306\n",
      "worlwide_gross_income    41062\n",
      "dtype: int64\n"
     ]
    }
   ],
   "source": [
    "print(f\"Missing values: \\n{full_dataset[['budget', 'usa_gross_income', 'worlwide_gross_income']].isna().sum()}\")"
   ]
  },
  {
   "cell_type": "markdown",
   "metadata": {},
   "source": [
    "Amount of missing values in these columns is pretty high. We could just drop them or use the information they have, and create separate features reflecting the abscence of information in them, and impute missing values with new unique ones (like zeros in that case). Also, it looks like those values should be numerical, so we should clean them and convert to numerical type"
   ]
  },
  {
   "cell_type": "code",
   "execution_count": 46,
   "metadata": {},
   "outputs": [],
   "source": [
    "def money_feat_impute_converter(X):\n",
    "    X = X.copy()\n",
    "    for col in X:\n",
    "        X[col] = X[col].str.extract(r'(\\d+)').fillna(0).astype(np.int64)\n",
    "        X['no_' + col] = X[col].apply(lambda x: not bool(x)).astype(int)\n",
    "    return X"
   ]
  },
  {
   "cell_type": "code",
   "execution_count": 47,
   "metadata": {},
   "outputs": [
    {
     "data": {
      "text/html": [
       "<div>\n",
       "<style scoped>\n",
       "    .dataframe tbody tr th:only-of-type {\n",
       "        vertical-align: middle;\n",
       "    }\n",
       "\n",
       "    .dataframe tbody tr th {\n",
       "        vertical-align: top;\n",
       "    }\n",
       "\n",
       "    .dataframe thead th {\n",
       "        text-align: right;\n",
       "    }\n",
       "</style>\n",
       "<table border=\"1\" class=\"dataframe\">\n",
       "  <thead>\n",
       "    <tr style=\"text-align: right;\">\n",
       "      <th></th>\n",
       "      <th>budget</th>\n",
       "      <th>usa_gross_income</th>\n",
       "      <th>worlwide_gross_income</th>\n",
       "      <th>no_budget</th>\n",
       "      <th>no_usa_gross_income</th>\n",
       "      <th>no_worlwide_gross_income</th>\n",
       "    </tr>\n",
       "  </thead>\n",
       "  <tbody>\n",
       "    <tr>\n",
       "      <th>42197</th>\n",
       "      <td>0</td>\n",
       "      <td>0</td>\n",
       "      <td>0</td>\n",
       "      <td>1</td>\n",
       "      <td>1</td>\n",
       "      <td>1</td>\n",
       "    </tr>\n",
       "    <tr>\n",
       "      <th>44031</th>\n",
       "      <td>0</td>\n",
       "      <td>64458</td>\n",
       "      <td>111974</td>\n",
       "      <td>1</td>\n",
       "      <td>0</td>\n",
       "      <td>0</td>\n",
       "    </tr>\n",
       "    <tr>\n",
       "      <th>23257</th>\n",
       "      <td>0</td>\n",
       "      <td>0</td>\n",
       "      <td>0</td>\n",
       "      <td>1</td>\n",
       "      <td>1</td>\n",
       "      <td>1</td>\n",
       "    </tr>\n",
       "    <tr>\n",
       "      <th>52075</th>\n",
       "      <td>2600000</td>\n",
       "      <td>0</td>\n",
       "      <td>271475</td>\n",
       "      <td>0</td>\n",
       "      <td>1</td>\n",
       "      <td>0</td>\n",
       "    </tr>\n",
       "    <tr>\n",
       "      <th>21427</th>\n",
       "      <td>0</td>\n",
       "      <td>0</td>\n",
       "      <td>0</td>\n",
       "      <td>1</td>\n",
       "      <td>1</td>\n",
       "      <td>1</td>\n",
       "    </tr>\n",
       "  </tbody>\n",
       "</table>\n",
       "</div>"
      ],
      "text/plain": [
       "        budget  usa_gross_income  worlwide_gross_income  no_budget  \\\n",
       "42197        0                 0                      0          1   \n",
       "44031        0             64458                 111974          1   \n",
       "23257        0                 0                      0          1   \n",
       "52075  2600000                 0                 271475          0   \n",
       "21427        0                 0                      0          1   \n",
       "\n",
       "       no_usa_gross_income  no_worlwide_gross_income  \n",
       "42197                    1                         1  \n",
       "44031                    0                         0  \n",
       "23257                    1                         1  \n",
       "52075                    1                         0  \n",
       "21427                    1                         1  "
      ]
     },
     "execution_count": 47,
     "metadata": {},
     "output_type": "execute_result"
    }
   ],
   "source": [
    "money_transformer = FunctionTransformer(money_feat_impute_converter)\n",
    "money_df = money_transformer.transform(X_tr[['budget', 'usa_gross_income', 'worlwide_gross_income']])\n",
    "money_df.head()"
   ]
  },
  {
   "cell_type": "markdown",
   "metadata": {},
   "source": [
    "Let's check that worldwide and use incomes are not collinear"
   ]
  },
  {
   "cell_type": "code",
   "execution_count": 48,
   "metadata": {},
   "outputs": [
    {
     "data": {
      "text/plain": [
       "0.9288845965350244"
      ]
     },
     "execution_count": 48,
     "metadata": {},
     "output_type": "execute_result"
    }
   ],
   "source": [
    "money_df.corr().loc['usa_gross_income', 'worlwide_gross_income']"
   ]
  },
  {
   "cell_type": "markdown",
   "metadata": {},
   "source": [
    "Correlation is quite high, but still not 1"
   ]
  },
  {
   "cell_type": "code",
   "execution_count": 49,
   "metadata": {},
   "outputs": [],
   "source": [
    "money_df['score'] = df_plot['score']"
   ]
  },
  {
   "cell_type": "code",
   "execution_count": 50,
   "metadata": {
    "scrolled": true
   },
   "outputs": [
    {
     "data": {
      "image/png": "[encoded data removed]",
      "text/plain": [
       "<Figure size 1152x288 with 3 Axes>"
      ]
     },
     "metadata": {
      "needs_background": "light"
     },
     "output_type": "display_data"
    }
   ],
   "source": [
    "fig, ax = plt.subplots(1, 3, figsize=(16, 4))\n",
    "for idx, x in enumerate(['budget', 'usa_gross_income', 'worlwide_gross_income']):\n",
    "    sns.regplot(data = money_df[money_df[x] != 0], x=x, y='score', ax=ax[idx])\n"
   ]
  },
  {
   "cell_type": "markdown",
   "metadata": {},
   "source": [
    "We see, that correlation of budget with target variable is not that great, whether the incomes features are quite good in this regard. This is no surprise, because actually the information of incomes is information and we cannot use it in our model, due to data leakage. With our model we want to estimate the reception of the film at the moment when it wasn't actually avaluated yet, whil information about incomes comes much later after movie release."
   ]
  },
  {
   "cell_type": "markdown",
   "metadata": {},
   "source": [
    "Also, if we look at the budget feature values we will see that they are not in one currency."
   ]
  },
  {
   "cell_type": "code",
   "execution_count": 96,
   "metadata": {},
   "outputs": [
    {
     "data": {
      "text/plain": [
       "array(['$', 'ITL', 'ROL', 'SEK', 'FRF', 'NOK', 'GBP', 'DEM', 'PTE', 'CAD',\n",
       "       'INR', 'CHF', 'FIM', 'JPY', 'DKK', 'NLG', 'PLN', 'RUR', 'AUD',\n",
       "       'KRW', 'BEF', 'XAU', 'HKD', 'NZD', 'CNY', 'ESP', 'EUR', 'PYG',\n",
       "       'ISK', 'IEP', 'TRL', 'HRK', 'SIT', 'PHP', 'DOP', 'JMD', 'CZK',\n",
       "       'SGD', 'BRL', 'BDT', 'ATS', 'BND', 'HUF', 'EGP', 'THB', 'GRD',\n",
       "       'ZAR', 'NPR', 'IDR', 'PKR', 'EEK', 'MXN', 'BGL', 'YUM', 'MYR',\n",
       "       'IRR', 'CLP', 'SKK', 'LTL', 'TWD', 'MTL', 'LVL', 'COP', 'ARS',\n",
       "       'UAH', 'NGN', 'ILS', 'VEB'], dtype=object)"
      ]
     },
     "execution_count": 96,
     "metadata": {},
     "output_type": "execute_result"
    }
   ],
   "source": [
    "full_dataset['budget'].dropna().str.split().apply(lambda x:x[0]).unique()"
   ]
  },
  {
   "cell_type": "markdown",
   "metadata": {},
   "source": [
    "So we cannot simply extract number, but we should use exchange rates. But in this list there some obsolete currencies, and some exchange rates changed significantly with time. So it will be better to leave only two  top currencies USD and EUR and drop all others. We will use some mean excahnge rates between dollar and euro and transform all to dollars."
   ]
  },
  {
   "cell_type": "code",
   "execution_count": 157,
   "metadata": {},
   "outputs": [],
   "source": [
    "def budget_impute_converter(X):\n",
    "    res = pd.DataFrame()\n",
    "    res['currency'] = X.str.split().apply(lambda x:x[0] if type(x) == list and x[0] in ['$', 'EUR'] else 0)\n",
    "    res['budget'] = X.str.split().apply(lambda x:int(x[1]) if type(x) == list else 0)\n",
    "    mapping = {'$': 1, 'EUR': 1.2, 0: 0}\n",
    "    res['currency'] = res['currency'].map(mapping)\n",
    "    res['no_budget'] = res['currency'].apply(lambda x: not bool(x)).astype(int)\n",
    "    res['budget'] = res['currency'] * res['budget']\n",
    "    res['budget'] = MinMaxScaler().fit_transform(res['budget'].values.reshape(-1, 1))\n",
    "    res.drop('currency', axis=1, inplace=True)\n",
    "    return res"
   ]
  },
  {
   "cell_type": "code",
   "execution_count": 158,
   "metadata": {},
   "outputs": [],
   "source": [
    "budget_transformer = FunctionTransformer(budget_impute_converter)"
   ]
  },
  {
   "cell_type": "markdown",
   "metadata": {},
   "source": [
    "### Duration"
   ]
  },
  {
   "cell_type": "code",
   "execution_count": 51,
   "metadata": {},
   "outputs": [
    {
     "name": "stdout",
     "output_type": "stream",
     "text": [
      "Missing values: \n",
      "0\n"
     ]
    }
   ],
   "source": [
    "print(f\"Missing values: \\n{full_dataset['duration'].isna().sum()}\")"
   ]
  },
  {
   "cell_type": "code",
   "execution_count": 52,
   "metadata": {},
   "outputs": [
    {
     "data": {
      "image/png": "[encoded data removed]",
      "text/plain": [
       "<Figure size 432x288 with 1 Axes>"
      ]
     },
     "metadata": {
      "needs_background": "light"
     },
     "output_type": "display_data"
    }
   ],
   "source": [
    "sns.regplot(data = df_plot, x='duration', y='score', scatter_kws={'alpha':0.2, 'edgecolor':'black'});"
   ]
  },
  {
   "cell_type": "markdown",
   "metadata": {},
   "source": [
    "We can scale and use it."
   ]
  },
  {
   "cell_type": "markdown",
   "metadata": {},
   "source": [
    "### Metascore, reviews_from_users, reviews_from_critics"
   ]
  },
  {
   "cell_type": "markdown",
   "metadata": {},
   "source": [
    "This three features are also information from future and cannot be used except for target variable in our case. We didn't use it the as target variable, because metascore has mostly missing values, and other two doesn't provide anough information to estimate movie reception level. So, we simply drop them."
   ]
  },
  {
   "cell_type": "markdown",
   "metadata": {},
   "source": [
    "## Building pipeline"
   ]
  },
  {
   "cell_type": "markdown",
   "metadata": {},
   "source": [
    "Extracting date features"
   ]
  },
  {
   "cell_type": "code",
   "execution_count": 64,
   "metadata": {},
   "outputs": [
    {
     "data": {
      "text/html": [
       "<div>\n",
       "<style scoped>\n",
       "    .dataframe tbody tr th:only-of-type {\n",
       "        vertical-align: middle;\n",
       "    }\n",
       "\n",
       "    .dataframe tbody tr th {\n",
       "        vertical-align: top;\n",
       "    }\n",
       "\n",
       "    .dataframe thead th {\n",
       "        text-align: right;\n",
       "    }\n",
       "</style>\n",
       "<table border=\"1\" class=\"dataframe\">\n",
       "  <thead>\n",
       "    <tr style=\"text-align: right;\">\n",
       "      <th></th>\n",
       "      <th>imdb_title_id</th>\n",
       "      <th>title</th>\n",
       "      <th>original_title</th>\n",
       "      <th>year</th>\n",
       "      <th>genre</th>\n",
       "      <th>duration</th>\n",
       "      <th>country</th>\n",
       "      <th>language</th>\n",
       "      <th>director</th>\n",
       "      <th>writer</th>\n",
       "      <th>...</th>\n",
       "      <th>actors</th>\n",
       "      <th>description</th>\n",
       "      <th>budget</th>\n",
       "      <th>usa_gross_income</th>\n",
       "      <th>worlwide_gross_income</th>\n",
       "      <th>metascore</th>\n",
       "      <th>reviews_from_users</th>\n",
       "      <th>reviews_from_critics</th>\n",
       "      <th>month</th>\n",
       "      <th>day_of_week</th>\n",
       "    </tr>\n",
       "  </thead>\n",
       "  <tbody>\n",
       "    <tr>\n",
       "      <th>42197</th>\n",
       "      <td>tt0362969</td>\n",
       "      <td>Perros callejeros II</td>\n",
       "      <td>Perros callejeros II</td>\n",
       "      <td>1979</td>\n",
       "      <td>Action, Drama</td>\n",
       "      <td>100</td>\n",
       "      <td>Mexico, Spain</td>\n",
       "      <td>Spanish</td>\n",
       "      <td>José Antonio de la Loma</td>\n",
       "      <td>José Antonio de la Loma</td>\n",
       "      <td>...</td>\n",
       "      <td>Ángel Fernández Franco, Teresa Giménez, Reyes ...</td>\n",
       "      <td>A veteran policeman named Fernando feels a lot...</td>\n",
       "      <td>NaN</td>\n",
       "      <td>NaN</td>\n",
       "      <td>NaN</td>\n",
       "      <td>NaN</td>\n",
       "      <td>5.0</td>\n",
       "      <td>1.0</td>\n",
       "      <td>1</td>\n",
       "      <td>0</td>\n",
       "    </tr>\n",
       "    <tr>\n",
       "      <th>44031</th>\n",
       "      <td>tt0404163</td>\n",
       "      <td>Even Money</td>\n",
       "      <td>Even Money</td>\n",
       "      <td>2006</td>\n",
       "      <td>Crime, Drama</td>\n",
       "      <td>113</td>\n",
       "      <td>USA, Germany</td>\n",
       "      <td>English</td>\n",
       "      <td>Mark Rydell</td>\n",
       "      <td>Robert Tannen</td>\n",
       "      <td>...</td>\n",
       "      <td>Kim Basinger, Kelsey Grammer, Michael Eaves, F...</td>\n",
       "      <td>Gambling addiction bring the stories of three ...</td>\n",
       "      <td>NaN</td>\n",
       "      <td>$ 64458</td>\n",
       "      <td>$ 111974</td>\n",
       "      <td>34.0</td>\n",
       "      <td>29.0</td>\n",
       "      <td>48.0</td>\n",
       "      <td>11</td>\n",
       "      <td>2</td>\n",
       "    </tr>\n",
       "    <tr>\n",
       "      <th>23257</th>\n",
       "      <td>tt0095426</td>\n",
       "      <td>Kamarád do deste</td>\n",
       "      <td>Kamarád do deste</td>\n",
       "      <td>1988</td>\n",
       "      <td>Comedy, Crime</td>\n",
       "      <td>72</td>\n",
       "      <td>Czechoslovakia</td>\n",
       "      <td>Czech</td>\n",
       "      <td>Jaroslav Soukup</td>\n",
       "      <td>Jaroslav Soukup, Miroslav Vaic</td>\n",
       "      <td>...</td>\n",
       "      <td>Sagvan Tofi, Lukás Vaculík, Beata Andraszewicz...</td>\n",
       "      <td>NaN</td>\n",
       "      <td>NaN</td>\n",
       "      <td>NaN</td>\n",
       "      <td>NaN</td>\n",
       "      <td>NaN</td>\n",
       "      <td>NaN</td>\n",
       "      <td>NaN</td>\n",
       "      <td>8</td>\n",
       "      <td>0</td>\n",
       "    </tr>\n",
       "    <tr>\n",
       "      <th>52075</th>\n",
       "      <td>tt1095432</td>\n",
       "      <td>Un poco de chocolate</td>\n",
       "      <td>Un poco de chocolate</td>\n",
       "      <td>2008</td>\n",
       "      <td>Drama</td>\n",
       "      <td>98</td>\n",
       "      <td>Spain</td>\n",
       "      <td>Spanish</td>\n",
       "      <td>Aitzol Aramaio</td>\n",
       "      <td>Aitzol Aramaio, Unai Elorriaga</td>\n",
       "      <td>...</td>\n",
       "      <td>Héctor Alterio, Daniel Brühl, Julieta Serrano,...</td>\n",
       "      <td>In a small town in the Basque country, Lucas a...</td>\n",
       "      <td>EUR 2600000</td>\n",
       "      <td>NaN</td>\n",
       "      <td>$ 271475</td>\n",
       "      <td>NaN</td>\n",
       "      <td>NaN</td>\n",
       "      <td>2.0</td>\n",
       "      <td>4</td>\n",
       "      <td>2</td>\n",
       "    </tr>\n",
       "    <tr>\n",
       "      <th>21427</th>\n",
       "      <td>tt0089775</td>\n",
       "      <td>Parking</td>\n",
       "      <td>Parking</td>\n",
       "      <td>1985</td>\n",
       "      <td>Fantasy, Musical</td>\n",
       "      <td>95</td>\n",
       "      <td>France</td>\n",
       "      <td>French</td>\n",
       "      <td>Jacques Demy</td>\n",
       "      <td>Jacques Demy</td>\n",
       "      <td>...</td>\n",
       "      <td>Francis Huster, Laurent Malet, Keiko Itô, Géra...</td>\n",
       "      <td>This film is an update of Jean Cocteau's Orphe...</td>\n",
       "      <td>NaN</td>\n",
       "      <td>NaN</td>\n",
       "      <td>NaN</td>\n",
       "      <td>NaN</td>\n",
       "      <td>2.0</td>\n",
       "      <td>1.0</td>\n",
       "      <td>5</td>\n",
       "      <td>2</td>\n",
       "    </tr>\n",
       "  </tbody>\n",
       "</table>\n",
       "<p>5 rows × 21 columns</p>\n",
       "</div>"
      ],
      "text/plain": [
       "      imdb_title_id                 title        original_title  year  \\\n",
       "42197     tt0362969  Perros callejeros II  Perros callejeros II  1979   \n",
       "44031     tt0404163            Even Money            Even Money  2006   \n",
       "23257     tt0095426      Kamarád do deste      Kamarád do deste  1988   \n",
       "52075     tt1095432  Un poco de chocolate  Un poco de chocolate  2008   \n",
       "21427     tt0089775               Parking               Parking  1985   \n",
       "\n",
       "                  genre  duration         country language  \\\n",
       "42197     Action, Drama       100   Mexico, Spain  Spanish   \n",
       "44031      Crime, Drama       113    USA, Germany  English   \n",
       "23257     Comedy, Crime        72  Czechoslovakia    Czech   \n",
       "52075             Drama        98           Spain  Spanish   \n",
       "21427  Fantasy, Musical        95          France   French   \n",
       "\n",
       "                      director                          writer  ...  \\\n",
       "42197  José Antonio de la Loma         José Antonio de la Loma  ...   \n",
       "44031              Mark Rydell                   Robert Tannen  ...   \n",
       "23257          Jaroslav Soukup  Jaroslav Soukup, Miroslav Vaic  ...   \n",
       "52075           Aitzol Aramaio  Aitzol Aramaio, Unai Elorriaga  ...   \n",
       "21427             Jacques Demy                    Jacques Demy  ...   \n",
       "\n",
       "                                                  actors  \\\n",
       "42197  Ángel Fernández Franco, Teresa Giménez, Reyes ...   \n",
       "44031  Kim Basinger, Kelsey Grammer, Michael Eaves, F...   \n",
       "23257  Sagvan Tofi, Lukás Vaculík, Beata Andraszewicz...   \n",
       "52075  Héctor Alterio, Daniel Brühl, Julieta Serrano,...   \n",
       "21427  Francis Huster, Laurent Malet, Keiko Itô, Géra...   \n",
       "\n",
       "                                             description       budget  \\\n",
       "42197  A veteran policeman named Fernando feels a lot...          NaN   \n",
       "44031  Gambling addiction bring the stories of three ...          NaN   \n",
       "23257                                                NaN          NaN   \n",
       "52075  In a small town in the Basque country, Lucas a...  EUR 2600000   \n",
       "21427  This film is an update of Jean Cocteau's Orphe...          NaN   \n",
       "\n",
       "      usa_gross_income worlwide_gross_income metascore  reviews_from_users  \\\n",
       "42197              NaN                   NaN       NaN                 5.0   \n",
       "44031          $ 64458              $ 111974      34.0                29.0   \n",
       "23257              NaN                   NaN       NaN                 NaN   \n",
       "52075              NaN              $ 271475       NaN                 NaN   \n",
       "21427              NaN                   NaN       NaN                 2.0   \n",
       "\n",
       "       reviews_from_critics  month  day_of_week  \n",
       "42197                   1.0      1            0  \n",
       "44031                  48.0     11            2  \n",
       "23257                   NaN      8            0  \n",
       "52075                   2.0      4            2  \n",
       "21427                   1.0      5            2  \n",
       "\n",
       "[5 rows x 21 columns]"
      ]
     },
     "execution_count": 64,
     "metadata": {},
     "output_type": "execute_result"
    }
   ],
   "source": [
    "X_tr['date_published'] = pd.to_datetime(X_tr['date_published'])\n",
    "X_te['date_published'] = pd.to_datetime(X_te['date_published'])\n",
    "X_tr['month'] = X_tr['date_published'].dt.month\n",
    "X_te['month'] = X_te['date_published'].dt.month\n",
    "X_tr['day_of_week'] = X_tr['date_published'].dt.dayofweek\n",
    "X_te['day_of_week'] = X_te['date_published'].dt.dayofweek\n",
    "X_tr.drop('date_published', axis=1, inplace=True)\n",
    "X_te.drop('date_published', axis=1, inplace=True)\n",
    "X_tr.head()"
   ]
  },
  {
   "cell_type": "code",
   "execution_count": 362,
   "metadata": {},
   "outputs": [],
   "source": [
    "simple_impute_cols = ['director', 'production_company']\n",
    "groupby_impute_cols = ['country', 'language']\n",
    "date_cols = ['year', 'month', 'day_of_week']\n",
    "\n",
    "# we need this because CountVectorizer takes 1D-array as input, but SimpleImputer outputs 2D\n",
    "one_dim = FunctionTransformer(np.reshape, kw_args={'newshape':-1})\n",
    "\n",
    "\n",
    "\n",
    "cat_simple_transformer = Pipeline([('encoder',CatBoostEncoder()),\n",
    "                                   ('scaler', MinMaxScaler())])\n",
    "cat_groupby_transformer = Pipeline([('imputer', GroupbyImputer(groupby_column='country')),\n",
    "                                    ('encoder', CatBoostEncoder()),\n",
    "                                    ('scaler', MinMaxScaler())])\n",
    "cv_transformer = Pipeline([('imputer', SimpleImputer(strategy='most_frequent')),\n",
    "                           ('flatten', one_dim),\n",
    "                           ('vectorizer', CountVectorizer(token_pattern='(?u)\\\\b[\\\\w-]+\\\\b'))])\n",
    "\n",
    "\n",
    "\n",
    "preprocess = ColumnTransformer([('simple_impute', cat_simple_transformer, simple_impute_cols),\n",
    "                                ('groupby_impute', cat_groupby_transformer, groupby_impute_cols),\n",
    "                                ('date', OneHotEncoder(handle_unknown='ignore'), date_cols),\n",
    "                                ('cv_country', cv_transformer, ['country']),\n",
    "                                ('cv_genre', cv_transformer, ['genre']),\n",
    "                                ('budget', budget_transformer, 'budget'),\n",
    "                                ('duration', MinMaxScaler(), ['duration'])],\n",
    "                              remainder='drop', n_jobs=-1)"
   ]
  },
  {
   "cell_type": "markdown",
   "metadata": {},
   "source": [
    "### Part 3.\n",
    "\n",
    "Train and compare the models\n",
    "\n",
    "3.1. Select models, you are going to train, select hyperparameters that have to be tunes."
   ]
  },
  {
   "cell_type": "code",
   "execution_count": 363,
   "metadata": {},
   "outputs": [],
   "source": [
    "from sklearn.linear_model import SGDRegressor\n",
    "from sklearn.ensemble import RandomForestRegressor, GradientBoostingRegressor"
   ]
  },
  {
   "cell_type": "code",
   "execution_count": 364,
   "metadata": {},
   "outputs": [],
   "source": [
    "sgd_pipe = Pipeline([('preprocess', preprocess),\n",
    "                     ('estimator', SGDRegressor())])\n",
    "rf_pipe = Pipeline([('preprocess', preprocess),\n",
    "                     ('estimator', RandomForestRegressor())])\n",
    "xgb_pipe = Pipeline([('preprocess', preprocess),\n",
    "                     ('estimator', GradientBoostingRegressor())])\n",
    "\n",
    "sgd_params = {'estimator__loss':['squared_loss', 'huber'], 'estimator__alpha': np.logspace(-4, 0, 10)}\n",
    "rf_params =  {'estimator__n_estimators': range(5, 55, 5), 'estimator__max_depth': range(2, 8)}\n",
    "xgb_params =  {'estimator__n_estimators': range(5, 55, 5), 'estimator__max_depth': range(2, 8)}"
   ]
  },
  {
   "cell_type": "markdown",
   "metadata": {},
   "source": [
    "3.2 Use cross-validation to compare models and select best set of hyperparameters"
   ]
  },
  {
   "cell_type": "code",
   "execution_count": 365,
   "metadata": {},
   "outputs": [],
   "source": [
    "sgd_grid = GridSearchCV(estimator=sgd_pipe, param_grid=sgd_params, scoring='r2', cv=3, n_jobs=-1)\n",
    "rf_grid = GridSearchCV(estimator=rf_pipe, param_grid=rf_params, scoring='r2', cv=3, n_jobs=-1)\n",
    "xgb_grid = GridSearchCV(estimator=xgb_pipe, param_grid=xgb_params, scoring='r2', cv=3, n_jobs=-1)"
   ]
  },
  {
   "cell_type": "code",
   "execution_count": 368,
   "metadata": {},
   "outputs": [],
   "source": [
    "sgd_grid.fit(X_tr, y_tr)\n",
    "rf_grid.fit(X_tr, y_tr)\n",
    "xgb_grid.fit(X_tr, y_tr);"
   ]
  },
  {
   "cell_type": "code",
   "execution_count": 371,
   "metadata": {},
   "outputs": [
    {
     "name": "stdout",
     "output_type": "stream",
     "text": [
      "SGD best: 0.37\n",
      "Random Forest best: 0.38\n",
      "XGBoost best: 0.42\n"
     ]
    }
   ],
   "source": [
    "print(f'''SGD best: {sgd_grid.best_score_:.2f}\n",
    "Random Forest best: {rf_grid.best_score_:.2f}\n",
    "XGBoost best: {xgb_grid.best_score_:.2f}''')"
   ]
  },
  {
   "cell_type": "code",
   "execution_count": 373,
   "metadata": {},
   "outputs": [
    {
     "data": {
      "text/plain": [
       "{'estimator__max_depth': 7, 'estimator__n_estimators': 50}"
      ]
     },
     "execution_count": 373,
     "metadata": {},
     "output_type": "execute_result"
    }
   ],
   "source": [
    "xgb_grid.best_params_"
   ]
  },
  {
   "cell_type": "markdown",
   "metadata": {},
   "source": [
    "We see that best params are border values, so we can try to shift param window. Instead of searching accross all grid, we will fix one parameter and swipe across another."
   ]
  },
  {
   "cell_type": "code",
   "execution_count": 378,
   "metadata": {},
   "outputs": [],
   "source": [
    "xgb_params2 = {'estimator__n_estimators': range(50, 120, 5), 'estimator__max_depth': [7]}\n",
    "xgb_grid2 = GridSearchCV(estimator=xgb_pipe, param_grid=xgb_params2, scoring='r2', cv=3, n_jobs=-1)\n",
    "xgb_grid2.fit(X_tr, y_tr);"
   ]
  },
  {
   "cell_type": "code",
   "execution_count": 379,
   "metadata": {},
   "outputs": [
    {
     "data": {
      "text/plain": [
       "(0.4301788595226832,\n",
       " {'estimator__max_depth': 7, 'estimator__n_estimators': 115})"
      ]
     },
     "execution_count": 379,
     "metadata": {},
     "output_type": "execute_result"
    }
   ],
   "source": [
    "xgb_grid2.best_score_, xgb_grid2.best_params_"
   ]
  },
  {
   "cell_type": "code",
   "execution_count": 380,
   "metadata": {},
   "outputs": [],
   "source": [
    "xgb_params3 = {'estimator__n_estimators': range(115, 150, 5), 'estimator__max_depth': [7]}\n",
    "xgb_grid3 = GridSearchCV(estimator=xgb_pipe, param_grid=xgb_params3, scoring='r2', cv=3, n_jobs=-1)\n",
    "xgb_grid3.fit(X_tr, y_tr);"
   ]
  },
  {
   "cell_type": "code",
   "execution_count": 381,
   "metadata": {},
   "outputs": [
    {
     "data": {
      "text/plain": [
       "(0.43068289578785174,\n",
       " {'estimator__max_depth': 7, 'estimator__n_estimators': 135})"
      ]
     },
     "execution_count": 381,
     "metadata": {},
     "output_type": "execute_result"
    }
   ],
   "source": [
    "xgb_grid3.best_score_, xgb_grid3.best_params_"
   ]
  },
  {
   "cell_type": "markdown",
   "metadata": {},
   "source": [
    "Now we can change other param"
   ]
  },
  {
   "cell_type": "code",
   "execution_count": 384,
   "metadata": {},
   "outputs": [],
   "source": [
    "xgb_params4 = {'estimator__n_estimators': [135], 'estimator__max_depth': range(3, 9)}\n",
    "xgb_grid4 = GridSearchCV(estimator=xgb_pipe, param_grid=xgb_params4, scoring='r2', cv=3, n_jobs=-1)\n",
    "xgb_grid4.fit(X_tr, y_tr);"
   ]
  },
  {
   "cell_type": "code",
   "execution_count": 385,
   "metadata": {},
   "outputs": [
    {
     "data": {
      "text/plain": [
       "(0.43060925376764275,\n",
       " {'estimator__max_depth': 7, 'estimator__n_estimators': 135})"
      ]
     },
     "execution_count": 385,
     "metadata": {},
     "output_type": "execute_result"
    }
   ],
   "source": [
    "xgb_grid4.best_score_, xgb_grid4.best_params_"
   ]
  },
  {
   "cell_type": "markdown",
   "metadata": {},
   "source": [
    "3.3 Which model and setup is the best? How does it perform on the test dataset? If you were to present this model to the client, how would you describe it?"
   ]
  },
  {
   "cell_type": "markdown",
   "metadata": {},
   "source": [
    "Best model is XGBoost with max_depth 7 and n_estimators 135"
   ]
  },
  {
   "cell_type": "code",
   "execution_count": 389,
   "metadata": {
    "scrolled": true
   },
   "outputs": [],
   "source": [
    "best_model = xgb_grid4.best_estimator_\n",
    "best_model.fit(X_tr, y_tr);"
   ]
  },
  {
   "cell_type": "code",
   "execution_count": 388,
   "metadata": {},
   "outputs": [
    {
     "name": "stdout",
     "output_type": "stream",
     "text": [
      "Best model performance on test data: 0.46\n"
     ]
    }
   ],
   "source": [
    "r2 = r2_score(y_te, best_model.predict(X_te))\n",
    "print(f'Best model performance on test data: {r2:.2f}')"
   ]
  },
  {
   "cell_type": "code",
   "execution_count": 425,
   "metadata": {},
   "outputs": [],
   "source": [
    "cols = ['director', 'production_company', 'language']\n",
    "\n",
    "\n",
    "cv_transformer.fit(X_tr['country'].values.reshape(-1,1))\n",
    "countries = list(cv_transformer[2].vocabulary_.keys())\n",
    "cv_transformer.fit(X_tr['genre'].values.reshape(-1,1))\n",
    "genres = list(cv_transformer[2].vocabulary_.keys())\n",
    "ohe = OneHotEncoder(handle_unknown='ignore').fit(X_tr['year'].values.reshape(-1, 1))\n",
    "years = list(ohe.get_feature_names())\n",
    "ohe = OneHotEncoder(handle_unknown='ignore').fit(X_tr['month'].values.reshape(-1, 1))\n",
    "months = list(ohe.get_feature_names())\n",
    "ohe = OneHotEncoder(handle_unknown='ignore').fit(X_tr['day_of_week'].values.reshape(-1, 1))\n",
    "dows = list(ohe.get_feature_names())"
   ]
  },
  {
   "cell_type": "code",
   "execution_count": 426,
   "metadata": {},
   "outputs": [],
   "source": [
    "cols = cols + countries + genres + years + months + dows + ['budget', 'no_budget', 'duration']"
   ]
  },
  {
   "cell_type": "code",
   "execution_count": 429,
   "metadata": {},
   "outputs": [],
   "source": [
    "feats = pd.DataFrame({'Feature_score':best_model[1].feature_importances_}, index=cols)"
   ]
  },
  {
   "cell_type": "code",
   "execution_count": 432,
   "metadata": {},
   "outputs": [
    {
     "data": {
      "text/html": [
       "<div>\n",
       "<style scoped>\n",
       "    .dataframe tbody tr th:only-of-type {\n",
       "        vertical-align: middle;\n",
       "    }\n",
       "\n",
       "    .dataframe tbody tr th {\n",
       "        vertical-align: top;\n",
       "    }\n",
       "\n",
       "    .dataframe thead th {\n",
       "        text-align: right;\n",
       "    }\n",
       "</style>\n",
       "<table border=\"1\" class=\"dataframe\">\n",
       "  <thead>\n",
       "    <tr style=\"text-align: right;\">\n",
       "      <th></th>\n",
       "      <th>Feature_score</th>\n",
       "    </tr>\n",
       "  </thead>\n",
       "  <tbody>\n",
       "    <tr>\n",
       "      <th>director</th>\n",
       "      <td>0.368608</td>\n",
       "    </tr>\n",
       "    <tr>\n",
       "      <th>budget</th>\n",
       "      <td>0.183917</td>\n",
       "    </tr>\n",
       "    <tr>\n",
       "      <th>production_company</th>\n",
       "      <td>0.097061</td>\n",
       "    </tr>\n",
       "    <tr>\n",
       "      <th>duration</th>\n",
       "      <td>0.079660</td>\n",
       "    </tr>\n",
       "    <tr>\n",
       "      <th>language</th>\n",
       "      <td>0.059383</td>\n",
       "    </tr>\n",
       "    <tr>\n",
       "      <th>...</th>\n",
       "      <td>...</td>\n",
       "    </tr>\n",
       "    <tr>\n",
       "      <th>thriller</th>\n",
       "      <td>0.000000</td>\n",
       "    </tr>\n",
       "    <tr>\n",
       "      <th>x0_1957</th>\n",
       "      <td>0.000000</td>\n",
       "    </tr>\n",
       "    <tr>\n",
       "      <th>x0_1956</th>\n",
       "      <td>0.000000</td>\n",
       "    </tr>\n",
       "    <tr>\n",
       "      <th>x0_1955</th>\n",
       "      <td>0.000000</td>\n",
       "    </tr>\n",
       "    <tr>\n",
       "      <th>jan</th>\n",
       "      <td>0.000000</td>\n",
       "    </tr>\n",
       "  </tbody>\n",
       "</table>\n",
       "<p>344 rows × 1 columns</p>\n",
       "</div>"
      ],
      "text/plain": [
       "                    Feature_score\n",
       "director                 0.368608\n",
       "budget                   0.183917\n",
       "production_company       0.097061\n",
       "duration                 0.079660\n",
       "language                 0.059383\n",
       "...                           ...\n",
       "thriller                 0.000000\n",
       "x0_1957                  0.000000\n",
       "x0_1956                  0.000000\n",
       "x0_1955                  0.000000\n",
       "jan                      0.000000\n",
       "\n",
       "[344 rows x 1 columns]"
      ]
     },
     "execution_count": 432,
     "metadata": {},
     "output_type": "execute_result"
    }
   ],
   "source": [
    "feats.sort_values(by='Feature_score', ascending=False)"
   ]
  },
  {
   "cell_type": "markdown",
   "metadata": {},
   "source": [
    "This model estimates the overall reception of the new movie, or the movie which wasn't evaluated by users of IMDB yet.\n",
    "The most important features to consider according to this model are director of the movie, and it's budget. This is quite expecatble result which totally correlates with common sense."
   ]
  },
  {
   "cell_type": "code",
   "execution_count": 441,
   "metadata": {},
   "outputs": [
    {
     "data": {
      "text/plain": [
       "90"
      ]
     },
     "execution_count": 441,
     "metadata": {},
     "output_type": "execute_result"
    }
   ],
   "source": [
    "feats.apply(lambda x: np.allclose(x, 0), axis=1).sum()"
   ]
  },
  {
   "cell_type": "markdown",
   "metadata": {},
   "source": [
    "Features with importance close to zero:"
   ]
  },
  {
   "cell_type": "code",
   "execution_count": 445,
   "metadata": {},
   "outputs": [
    {
     "data": {
      "text/plain": [
       "['mexico',\n",
       " 'usa',\n",
       " 'rica',\n",
       " 'qatar',\n",
       " 'moldova',\n",
       " 'libya',\n",
       " 'saudi',\n",
       " 'montenegro',\n",
       " 'cambodia',\n",
       " 'honduras',\n",
       " 'north',\n",
       " 'namibia',\n",
       " 'british',\n",
       " 'virgin',\n",
       " 'islands',\n",
       " 'ecuador',\n",
       " 'côte',\n",
       " 'd',\n",
       " 'ivoire',\n",
       " 'tajikistan',\n",
       " 'nepal',\n",
       " 'mozambique',\n",
       " 'paraguay',\n",
       " 'zimbabwe',\n",
       " 'suriname',\n",
       " 'papua',\n",
       " 'mauritania',\n",
       " 'verde',\n",
       " 'jan',\n",
       " 'syria',\n",
       " 'guinea-bissau',\n",
       " 'action',\n",
       " 'drama',\n",
       " 'comedy',\n",
       " 'sci-fi',\n",
       " 'mystery',\n",
       " 'thriller',\n",
       " 'film-noir',\n",
       " 'sport',\n",
       " 'horror',\n",
       " 'war',\n",
       " 'x0_1912',\n",
       " 'x0_1913',\n",
       " 'x0_1916',\n",
       " 'x0_1918',\n",
       " 'x0_1920',\n",
       " 'x0_1921',\n",
       " 'x0_1922',\n",
       " 'x0_1926',\n",
       " 'x0_1927',\n",
       " 'x0_1928',\n",
       " 'x0_1929',\n",
       " 'x0_1932',\n",
       " 'x0_1933',\n",
       " 'x0_1938',\n",
       " 'x0_1940',\n",
       " 'x0_1941',\n",
       " 'x0_1942',\n",
       " 'x0_1943',\n",
       " 'x0_1945',\n",
       " 'x0_1946',\n",
       " 'x0_1948',\n",
       " 'x0_1950',\n",
       " 'x0_1951',\n",
       " 'x0_1952',\n",
       " 'x0_1955',\n",
       " 'x0_1956',\n",
       " 'x0_1957',\n",
       " 'x0_1961',\n",
       " 'x0_1963',\n",
       " 'x0_1964',\n",
       " 'x0_1970',\n",
       " 'x0_1976',\n",
       " 'x0_1978',\n",
       " 'x0_1987',\n",
       " 'x0_1988',\n",
       " 'x0_1991',\n",
       " 'x0_1993',\n",
       " 'x0_1995',\n",
       " 'x0_1996',\n",
       " 'x0_2001',\n",
       " 'x0_2003',\n",
       " 'x0_2006',\n",
       " 'x0_2008',\n",
       " 'x0_2009',\n",
       " 'x0_2010',\n",
       " 'x0_2012',\n",
       " 'x0_2015',\n",
       " 'x0_3',\n",
       " 'x0_0']"
      ]
     },
     "execution_count": 445,
     "metadata": {},
     "output_type": "execute_result"
    }
   ],
   "source": [
    "list(feats[feats.apply(lambda x: np.allclose(x, 0), axis=1)].index)"
   ]
  },
  {
   "cell_type": "markdown",
   "metadata": {},
   "source": [
    "Seems like there is still room for improvement for this model, particularly in feature selection field. The year feature can be possibly omited or engineered in some way."
   ]
  }
 ],
 "metadata": {
  "kernelspec": {
   "display_name": "Python 3 (ipykernel)",
   "language": "python",
   "name": "python3"
  },
  "language_info": {
   "codemirror_mode": {
    "name": "ipython",
    "version": 3
   },
   "file_extension": ".py",
   "mimetype": "text/x-python",
   "name": "python",
   "nbconvert_exporter": "python",
   "pygments_lexer": "ipython3",
   "version": "3.9.7"
  }
 },
 "nbformat": 4,
 "nbformat_minor": 4
}
